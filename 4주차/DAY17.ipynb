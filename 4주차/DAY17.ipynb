{
 "cells": [
  {
   "cell_type": "markdown",
   "metadata": {},
   "source": [
    "# 수업복습\n"
   ]
  },
  {
   "cell_type": "markdown",
   "metadata": {},
   "source": [
    "## RNN(\n",
    "---\n",
    "![RNN1.PNG](RNN!.PNG)\n",
    "- rnn모델을 정의하는 파라미터 w는 모든 타임스텝에서 동일한 값을 공유한다는 것이 가장 중요한 특징\n",
    "### RNN 수식\n",
    "---\n",
    "![RNN_2.PNG](RNN_2.PNG)"
   ]
  },
  {
   "cell_type": "markdown",
   "metadata": {},
   "source": [
    "### Tpyes of RNNs\n",
    "---\n",
    "![RNN_3.PNG](RNN_3.PNG)\n",
    "\n",
    "\n",
    "- One-to-one\n",
    "    - 시퀀스 데이터가아닌 일반적인구조\n",
    "    - 사림의 키,몸무게,나이로 이뤄진 3차원 벡터를 입력 -> hidden-layer를 거친뒤\n",
    "    - 최종적으로 이사람의 혈압이 고혈압/정상/저혈압 3가지중 하나로 분류\n",
    "- one-to-many\n",
    "    - 입력으로 하나의 이미지\n",
    "    - 이미지를에대한 설명들을 순차적으로 예측 또는 생성 \n",
    "    - 입력이 첫번째 time step에만 \n",
    "    - \n",
    "- many- to-one\n",
    "    - 입력을 각 time-step에서 받고\n",
    "    - 최종 출력을 마지막 time-step 에서만\n",
    "    - 감정분석 같은 거 ..\n",
    "- many-to-many(1)\n",
    "    - 입력과 출력이 모두 sequence 형태\n",
    "    - 기계 번역 의 경우\n",
    "    - time step가 5개인데 입력이 다된후에 출력하는 time step이 이어지는 구조이기때문임.\n",
    "- mant-to-mant(2)\n",
    "    - 입력이 될때마다 바로 바로 출력 \n",
    "    - 각 단어별로 문장 성분이나 품사를 예측하는 경우..\n",
    "    \n",
    "    "
   ]
  },
  {
   "cell_type": "markdown",
   "metadata": {},
   "source": [
    "### Character-level Language Model\n",
    "---\n",
    "- language model : 주어진 문자열을 바탕으로 다음단어를 맞추는 task\n",
    "![hello.PNG](hello.PNG)"
   ]
  },
  {
   "cell_type": "markdown",
   "metadata": {},
   "source": [
    "### Character-level Language Model 활용\n",
    "---\n",
    "- 연극 대사 작성 \n",
    "- 논문 작성\n",
    "- C 언어 작성"
   ]
  },
  {
   "cell_type": "markdown",
   "metadata": {},
   "source": [
    "### 학습과정\n",
    "---\n",
    "한꺼번에 하기에는 gpu가 버티기힘듦 \n",
    "그래서 부분적으로 학습하는 방식을 주로 이용.\n",
    "![BPTT_1.PNG](BPTT_1.PNG)\n",
    "![BPTT_2.PNG](BPTT_2.PNG)"
   ]
  },
  {
   "attachments": {},
   "cell_type": "markdown",
   "metadata": {},
   "source": [
    "## Simple RNN(Vanila RNN)의 문제점 ?\n",
    "--- \n",
    "- 기울기 소실.\n",
    "\n",
    "![RNN문제점.PNG](RNN문제점.PNG)"
   ]
  },
  {
   "cell_type": "markdown",
   "metadata": {},
   "source": [
    "## LSTM(Long Short-Term Memory\n",
    "---\n",
    "- 기울기 소실을 해결\n",
    "\n",
    "### LSTM의 원리?? 수식?\n",
    "![LSTM.PNG](LSTM.PNG)\n",
    "![LSTM2.PNG](LSTM2.PNG)"
   ]
  },
  {
   "cell_type": "code",
   "execution_count": null,
   "metadata": {},
   "outputs": [],
   "source": []
  },
  {
   "cell_type": "code",
   "execution_count": null,
   "metadata": {},
   "outputs": [],
   "source": []
  }
 ],
 "metadata": {
  "kernelspec": {
   "display_name": "Python 3",
   "language": "python",
   "name": "python3"
  },
  "language_info": {
   "codemirror_mode": {
    "name": "ipython",
    "version": 3
   },
   "file_extension": ".py",
   "mimetype": "text/x-python",
   "name": "python",
   "nbconvert_exporter": "python",
   "pygments_lexer": "ipython3",
   "version": "3.7.3"
  }
 },
 "nbformat": 4,
 "nbformat_minor": 2
}
