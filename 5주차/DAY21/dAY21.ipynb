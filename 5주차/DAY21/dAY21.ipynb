{
 "cells": [
  {
   "cell_type": "markdown",
   "metadata": {},
   "source": [
    "# 수업 복습"
   ]
  },
  {
   "cell_type": "markdown",
   "metadata": {},
   "source": [
    "## 그래프\n",
    "---"
   ]
  },
  {
   "cell_type": "markdown",
   "metadata": {},
   "source": [
    "![그래프1.PNG](그래프1.PNG)"
   ]
  },
  {
   "cell_type": "markdown",
   "metadata": {},
   "source": [
    "### 그래프는 왜 중요 할까 ? \n",
    "우리 주변에는 다양한 복잡계가 있다.\n",
    "그래프는 복잡계를 효과적으로 표현하고 분석하기 위한 언어이다.\n"
   ]
  },
  {
   "cell_type": "markdown",
   "metadata": {},
   "source": [
    "![그래프1.PNG](그래프2.PNG)\n",
    "\n",
    "sns상 관계를 그래프로 표현할 수있다.\n",
    "\n",
    "![그래프1.PNG](그래프3.PNG)\n",
    "\n",
    "온라인 쇼핑몰의 구매이력등을 그래프로 표현할 수 있다."
   ]
  },
  {
   "cell_type": "markdown",
   "metadata": {},
   "source": [
    "복잡계는 구성 요소들 간의 상호작용으로 이루어지낟.\n",
    "상호작용을 표현하기 위한 수단으로 그래프가 널리 사용된다.\n",
    "\n",
    "그래프를 공부함으로써 복잡계가 등장하는 수많은 분야에 활용가능\n",
    "전산학, 물리학,생물학,화학,사회과학 등"
   ]
  },
  {
   "cell_type": "markdown",
   "metadata": {},
   "source": [
    "## 그래프 관련 인공지는 문제\n",
    "\n",
    "- 정점 분류 문제\n",
    "    - 트위터에서의 공유 관계를 분석하여, 각 사용자의 정치적 성향을 알 수 있을까 ?\n",
    "    - 단백질의 상호작용을 분석하여 단백질의 역할을 알아낼 수 있을까 ?\n",
    "- 연결예측 문제\n",
    "    - 페이스북 소셜네트워크는 어떻게 진화할까 ?\n",
    "    - 미시적 관점에서의 연결예측\n",
    "        - 추천 문제\n",
    "            - 앞으로 어떤 정점과 연결 될지 예측하는 문제\n",
    "            - 각자에게 필요한 물건은 무엇일까? 어떤 물건을 구매해야 만족도가 높을까?\n",
    "- 군집 분석(Community Detection) 문제\n",
    "    - 연결 관계로부터 사회적 무리(Social Circle)를 찾아낼 수 있을까 ? \n",
    "- 랭킹 및 정보 검색 문제\n",
    "    - 웹이라는 거대한 그로프로부터 어떻게 중요한 웹페이지를 찾아낼 수 있을까 ?\n",
    "- 정보 전파 및 바이럴 마케팅 문제\n",
    "    - 정보는 네트워크를 통해 어떻게 전달될까? 어떻게 정보 전달을 최대화 할 수 있을까 ?\n",
    "          \n",
    "            \n",
    "    "
   ]
  },
  {
   "attachments": {},
   "cell_type": "markdown",
   "metadata": {},
   "source": [
    "### 그래프 유형 및 분류\n",
    "---\n",
    "![그래프][그래프4.PNG]\n",
    "![그래프][그래프5.PNG]\n",
    "![그래프][그래프6.PNG]"
   ]
  },
  {
   "cell_type": "markdown",
   "metadata": {},
   "source": [
    "## NetworkX 실습\n",
    "---"
   ]
  },
  {
   "cell_type": "code",
   "execution_count": 2,
   "metadata": {
    "ExecuteTime": {
     "end_time": "2021-02-22T01:59:54.674504Z",
     "start_time": "2021-02-22T01:59:52.717198Z"
    }
   },
   "outputs": [],
   "source": [
    "import networkx as nx # NetworkX\n",
    "import numpy as np    # 선형대수를 위한 라이브러리\n",
    "import matplotlib.pyplot as plt  # 그림을 그리기 위한 라이브러리 "
   ]
  },
  {
   "cell_type": "code",
   "execution_count": 4,
   "metadata": {
    "ExecuteTime": {
     "end_time": "2021-02-22T02:01:11.752147Z",
     "start_time": "2021-02-22T02:01:11.744167Z"
    }
   },
   "outputs": [
    {
     "name": "stdout",
     "output_type": "stream",
     "text": [
      "##### Graph Init #####\n"
     ]
    }
   ],
   "source": [
    "# 그래프 초기화\n",
    "\n",
    "print('##### Graph Init #####')\n",
    "G = nx.Graph()  #방향성이 없는 그래프 초기화\n",
    "DiGraph = nx.DiGraph() #방향성이 있는 그래프 초기화\n"
   ]
  },
  {
   "cell_type": "code",
   "execution_count": 5,
   "metadata": {
    "ExecuteTime": {
     "end_time": "2021-02-22T02:01:12.034293Z",
     "start_time": "2021-02-22T02:01:12.014346Z"
    }
   },
   "outputs": [
    {
     "name": "stdout",
     "output_type": "stream",
     "text": [
      "##### 정점 추가 ######\n",
      "# Add node 1\n",
      "Num of nodes in G : 1\n",
      "Graph : [1]\n",
      "\n"
     ]
    }
   ],
   "source": [
    "# 정점을 추가, 정점의 수를세고 목록 반환\n",
    "print('##### 정점 추가 ######')\n",
    "print('# Add node 1')\n",
    "G.add_node(1) # 정점 1추가\n",
    "print('Num of nodes in G : ' + str(G.number_of_nodes())) # 정점의 수반환\n",
    "print('Graph : ' + str(G.nodes) + '\\n') #정점의 목록 반환"
   ]
  },
  {
   "cell_type": "code",
   "execution_count": 6,
   "metadata": {
    "ExecuteTime": {
     "end_time": "2021-02-22T02:02:26.669577Z",
     "start_time": "2021-02-22T02:02:26.662572Z"
    }
   },
   "outputs": [
    {
     "name": "stdout",
     "output_type": "stream",
     "text": [
      "# Add vertex 2 ~ 10\n",
      "Num of nodes in G : 10\n",
      "Graph :[1, 2, 3, 4, 5, 6, 7, 8, 9, 10]\n",
      "\n"
     ]
    }
   ],
   "source": [
    "print('# Add vertex 2 ~ 10')\n",
    "for i in range(1,11):\n",
    "    G.add_node(i)\n",
    "print('Num of nodes in G : ' + str(G.number_of_nodes()))\n",
    "print('Graph :'  + str(G.nodes) + \"\\n\")"
   ]
  },
  {
   "cell_type": "code",
   "execution_count": 7,
   "metadata": {
    "ExecuteTime": {
     "end_time": "2021-02-22T02:03:18.157790Z",
     "start_time": "2021-02-22T02:03:18.142832Z"
    }
   },
   "outputs": [
    {
     "name": "stdout",
     "output_type": "stream",
     "text": [
      "##### Add Edge to Graph #####\n",
      "# Add edge(1,2)\n",
      "Graph :[(1, 2)]\n",
      "\n"
     ]
    }
   ],
   "source": [
    "# 간선 추가\n",
    "print('##### Add Edge to Graph #####')\n",
    "print('# Add edge(1,2)')\n",
    "G.add_edge(1,2)\n",
    "print('Graph :'  + str(G.edges) + \"\\n\")"
   ]
  },
  {
   "cell_type": "code",
   "execution_count": 9,
   "metadata": {
    "ExecuteTime": {
     "end_time": "2021-02-22T02:04:10.046576Z",
     "start_time": "2021-02-22T02:04:10.041590Z"
    }
   },
   "outputs": [
    {
     "name": "stdout",
     "output_type": "stream",
     "text": [
      "# Add edge (1,i) for i = 2 ~10\n",
      "Graph :[(1, 2), (1, 3), (1, 4), (1, 5), (1, 6), (1, 7), (1, 8), (1, 9), (1, 10)]\n",
      "\n"
     ]
    }
   ],
   "source": [
    "# 간선 추가\n",
    "print('# Add edge (1,i) for i = 2 ~10')\n",
    "for i in range(2,11):\n",
    "    G.add_edge(1,i)\n",
    "print('Graph :' + str(G.edges) + '\\n')"
   ]
  },
  {
   "cell_type": "code",
   "execution_count": 10,
   "metadata": {
    "ExecuteTime": {
     "end_time": "2021-02-22T02:05:34.485552Z",
     "start_time": "2021-02-22T02:05:34.246195Z"
    }
   },
   "outputs": [
    {
     "data": {
      "image/png": "[encoded data removed]",
      "text/plain": [
       "<Figure size 432x288 with 1 Axes>"
      ]
     },
     "metadata": {},
     "output_type": "display_data"
    }
   ],
   "source": [
    "# 그래프 시각화\n",
    "# 정점의 위치 결정\n",
    "pos =  nx.spring_layout(G)\n",
    "#정점의 색과 크기를 지정하여 출력\n",
    "im = nx.draw_networkx_nodes(G,pos,node_color = 'red', node_size = 100)\n",
    "# 간선 출력\n",
    "nx.draw_networkx_edges(G,pos)\n",
    "# 각 정점이 라벨을 출력\n",
    "nx.draw_networkx_labels(G, pos, font_size= 10, font_color = 'black')\n",
    "plt.show()"
   ]
  },
  {
   "cell_type": "markdown",
   "metadata": {},
   "source": [
    "## 그래프의 표현 및 저장\n"
   ]
  },
  {
   "cell_type": "markdown",
   "metadata": {},
   "source": [
    "`간선 리스트(Edge List)` : 그래프를 간선들의 리스트로 저장\n",
    "각 간선은 해당 간선이 연결하는 두 정점들의 순서쌍(Pair)으로 저장됨.\n",
    "![그래프][그래프7.PNG]\n",
    "방향성이 있는 경우에는`(출발점,도착점)` 순서로 저장된다.\n",
    "![그래프][그래프8.PNG]"
   ]
  },
  {
   "cell_type": "markdown",
   "metadata": {},
   "source": [
    "`인접 리스트(Adjacent list) - 방향성이 없는 경우` : 각 점정의 이웃들을 리스트로 저장\n",
    "![그래프][그래프9.PNG]"
   ]
  },
  {
   "cell_type": "markdown",
   "metadata": {},
   "source": [
    "`인접 리스트(Adjacent list) - 방향성이 있는 경우` \n",
    ": 각 정점의 나가는 이웃들과 들어오는 이웃들을 각각 리스트로 저장\n",
    "![그래프][그래프10.PNG]"
   ]
  },
  {
   "cell_type": "markdown",
   "metadata": {},
   "source": [
    "`인접 행렬(Adjacency Matrix) - 방향성이 없는 경우`\n",
    "\n",
    "정점 수 x 정점 수 크기의 행렬\n",
    "정점 $i$와 $j$ 사이에 간선이 **있는** 경우, 행렬의 $i$행 $j$열 (그리고 $j$행 $i$열) 원소가 **1**\n",
    "정점 $i$와 $j$ 사이에 간선이 **없는** 경우, 행렬의 $i$행 $j$열 (그리고 $j$행 $i$열) 원소가 **0**\n",
    "![그래프][그래프11.PNG]"
   ]
  },
  {
   "cell_type": "markdown",
   "metadata": {},
   "source": [
    "`인접 행렬(Adjacency Matrix) - 방향성이 있는 경우`\n",
    "\n",
    "정점 수 x 정점 수 크기의 행렬\n",
    "정점 $i$와 $j$ 사이에 간선이 **있는** 경우, 행렬의 $i$행 $j$열 원소가 **1**\n",
    "정점 $i$와 $j$ 사이에 간선이 **없는** 경우, 행렬의 $i$행 $j$열  원소가 **0**\n",
    "![그래프][그래프12.PNG]"
   ]
  },
  {
   "cell_type": "markdown",
   "metadata": {},
   "source": [
    "<br/>\n",
    "<br/>\n",
    "NetworkX를 이용하여 그래프를 표현하고 저장하기\n",
    "![그래프][그래프13.PNG]"
   ]
  },
  {
   "cell_type": "markdown",
   "metadata": {},
   "source": [
    "## 실제 그래프 vs 랜덤 그래프\n",
    "---\n",
    "본 수업에서는 MSN메신저 그래프를 실제 그래프 예로 시릅"
   ]
  },
  {
   "cell_type": "markdown",
   "metadata": {},
   "source": [
    "`랜덤 그래프(Random Graph)`는 확률적 가정을 통해 생성한 그래프를 의미\n",
    "\n",
    "#### 에르되스-레니 랜덤 그래프\n",
    "\n",
    "임의의 두 정점 사이에 간선이 존재하는지 여부는 동일한 확률 분포에 의해 결정됨\n",
    "에르되스-레니 램덤그래프G$(n,p)$는\n",
    "    - n개의 정점을 가짐\n",
    "    - 임의의 두 개의 정점사이에 간선이 존재할 확률은 p\n",
    "    - 정점 감의 연결은 서로 독립적."
   ]
  },
  {
   "cell_type": "markdown",
   "metadata": {},
   "source": [
    "Q. G(3,0.3)에 의해 생성될 수 있느 그래프와 각각의 확률은 ?  \n",
    "![에르되스.PNG](에르되스.PNG)"
   ]
  },
  {
   "cell_type": "markdown",
   "metadata": {},
   "source": [
    "## 작은 세상 효과\n"
   ]
  },
  {
   "cell_type": "markdown",
   "metadata": {},
   "source": [
    "### 경로, 거리 및 지름\n",
    "---\n",
    "**정점 $u$와 $v$사이의 경로는 아래 조건을 만족하는 정점들의 순열(Sequence)이다.**\n",
    "\n",
    "(1) u에서 시작해서 v에서 끝나야한다.  \n",
    "(2) 순열에서 연속된 정점은 간선으로 연결되어 있어야 한다.\n",
    "\n",
    "![경로](경로.PNG)"
   ]
  },
  {
   "cell_type": "markdown",
   "metadata": {},
   "source": [
    "**경로의 길이는 해당 경로 상에 놓이는 간선의 수로 정의**\n",
    " \n",
    "경로 1, 4, 6, 8의 길이는 3\n",
    "경로 1, 3, 4, 6, 8의 길이는 4\n",
    "경로 1, 4, 3, 4, 6, 8의 길이는 5"
   ]
  },
  {
   "cell_type": "markdown",
   "metadata": {},
   "source": [
    "**정점 $u$와 $v$사이의 거리는 $u$와 $v$ 사이의 최단 경로의 길이이다.**\n",
    "![거리](거리.PNG)"
   ]
  },
  {
   "cell_type": "markdown",
   "metadata": {},
   "source": [
    "**그래프의 지름은 정점 간  거리의 최댓값이다.**\n",
    "![지름.PNG](지름.PNG)"
   ]
  },
  {
   "cell_type": "markdown",
   "metadata": {},
   "source": [
    "### 작은 세상 효과 \n",
    "\n",
    "임의의 두 사람을 골랐을 때, 몇 단계의 지인을 거쳐 연결되어 있을까 ?\n",
    "\n",
    "`여섯 단계 분리(Six Degrees of Separataion) 실험`\n",
    "\n",
    "- 사회학자 스탠리 밀그램(Stanley Milgram)에 의해 1960년대에 수행된 실험입니다\n",
    "- 오마하 (네브라스카 주)와 위치타 (켄사스 주)에서 500명의 사람을 뽑았습니다\n",
    "- 그들에게 보스턴에 있는 한 사람에게 편지를 전달하게끔 하였습니다\n",
    "- 단, 지인를 통해서만 전달하게끔 하였습니다"
   ]
  },
  {
   "cell_type": "markdown",
   "metadata": {},
   "source": [
    "평균 25%의 편지만 도착했지만, 평균적으로 6 단계만을 거침\n",
    "![작은세상효과](작은세상효과.PNG)"
   ]
  },
  {
   "cell_type": "markdown",
   "metadata": {},
   "source": [
    "- MSN 메신저 그래프에서는 어떨까 ?\n",
    "    - 정점 간의  평균 거리는 7 정도 밖에 되지 않는다.\n",
    "    - 단 거대 연결 구조만 고려.\n",
    "![작은세상효과2.PNG](작은세상효과2.PNG)"
   ]
  },
  {
   "cell_type": "markdown",
   "metadata": {},
   "source": [
    "이러한 현상을 `작은 세상 효과` 라고 부른다"
   ]
  },
  {
   "cell_type": "markdown",
   "metadata": {},
   "source": [
    "작은 세상 효과는  높은 확률로 랜덤 그래프에도 존재한다.\n",
    "\n",
    "모든 사람이 100명의 지인이 있다고 가정해보자.\n",
    "다섯 단계를 거치면 최대 100억(=$100^5$)명과 연결 될 수 있따."
   ]
  },
  {
   "cell_type": "markdown",
   "metadata": {},
   "source": [
    "하지만 모든 그래프에서 작은 세상  효과가 존재하는 것은 아님\n",
    "체인(chain) 사이클(Cycle), 격자(Grid) 그래프에는 작은 세상 효과가 존재하지 않음\n",
    "![작은세상효과3.PNG](작은세상효과3.PNG)"
   ]
  },
  {
   "cell_type": "markdown",
   "metadata": {},
   "source": [
    "## 연결성의 두터운 꼬리 분포\n",
    "---\n"
   ]
  },
  {
   "cell_type": "markdown",
   "metadata": {},
   "source": [
    "### 연결성\n",
    "정점의 연결성은 그 정점과 연결된 간선의 수를 의미\n",
    "\n",
    "정점 v의연결성은 해당 정점의 이웃들의 수와 같다.\n",
    "보통 정점 v의 나가는 연결성은 $"
   ]
  }
 ],
 "metadata": {
  "kernelspec": {
   "display_name": "Python 3",
   "language": "python",
   "name": "python3"
  },
  "language_info": {
   "codemirror_mode": {
    "name": "ipython",
    "version": 3
   },
   "file_extension": ".py",
   "mimetype": "text/x-python",
   "name": "python",
   "nbconvert_exporter": "python",
   "pygments_lexer": "ipython3",
   "version": "3.8.5"
  },
  "toc": {
   "base_numbering": 1,
   "nav_menu": {},
   "number_sections": true,
   "sideBar": true,
   "skip_h1_title": false,
   "title_cell": "Table of Contents",
   "title_sidebar": "Contents",
   "toc_cell": false,
   "toc_position": {},
   "toc_section_display": true,
   "toc_window_display": false
  }
 },
 "nbformat": 4,
 "nbformat_minor": 4
}
