{
 "cells": [
  {
   "cell_type": "markdown",
   "metadata": {},
   "source": [
    "# 부스트 캠프 3일차\n",
    "---"
   ]
  },
  {
   "cell_type": "markdown",
   "metadata": {},
   "source": [
    "## 파이썬 기본 자료구조\n",
    "\n"
   ]
  },
  {
   "cell_type": "markdown",
   "metadata": {},
   "source": [
    "### 스택\n",
    "---\n",
    "- Last In First Out\n",
    "- Data의 입력을 Push, 출력을 Pop 라고함"
   ]
  },
  {
   "cell_type": "code",
   "execution_count": 1,
   "metadata": {
    "ExecuteTime": {
     "end_time": "2021-01-20T08:31:16.800865Z",
     "start_time": "2021-01-20T08:31:16.786172Z"
    }
   },
   "outputs": [
    {
     "name": "stdout",
     "output_type": "stream",
     "text": [
      "[1, 2, 3, 4, 5, 10]\n",
      "[1, 2, 3, 4, 5]\n"
     ]
    }
   ],
   "source": [
    "a = [1,2,3,4,5]\n",
    "a.append(10)   # push\n",
    "print(a)\n",
    "a.pop()        # pop\n",
    "print(a)"
   ]
  },
  {
   "cell_type": "markdown",
   "metadata": {},
   "source": [
    "### 큐\n",
    "---\n",
    "- First In First Out\n",
    "- 스택과 반대"
   ]
  },
  {
   "cell_type": "code",
   "execution_count": 2,
   "metadata": {
    "ExecuteTime": {
     "end_time": "2021-01-20T08:31:16.816956Z",
     "start_time": "2021-01-20T08:31:16.806849Z"
    }
   },
   "outputs": [
    {
     "name": "stdout",
     "output_type": "stream",
     "text": [
      "[1, 2, 3, 4, 5, 10]\n",
      "[2, 3, 4, 5, 10]\n"
     ]
    }
   ],
   "source": [
    "a = [1,2,3,4,5]\n",
    "a.append(10)\n",
    "print(a)\n",
    "a.pop(0)\n",
    "print(a)"
   ]
  },
  {
   "cell_type": "markdown",
   "metadata": {},
   "source": [
    "### 튜플\n",
    "---\n",
    "- 값의 변경이 불가능한 리스트\n",
    "- 선언시 '[]' 가 아닌 \"()\"를 사용"
   ]
  },
  {
   "cell_type": "code",
   "execution_count": 3,
   "metadata": {
    "ExecuteTime": {
     "end_time": "2021-01-20T08:31:16.829980Z",
     "start_time": "2021-01-20T08:31:16.821943Z"
    }
   },
   "outputs": [
    {
     "name": "stdout",
     "output_type": "stream",
     "text": [
      "<class 'list'> <class 'tuple'>\n"
     ]
    }
   ],
   "source": [
    "a=  [1,2,3,4] # 리스트\n",
    "b = (1,2,3,4)\n",
    "print(type(a),type(b))"
   ]
  },
  {
   "cell_type": "code",
   "execution_count": 4,
   "metadata": {
    "ExecuteTime": {
     "end_time": "2021-01-20T08:31:16.971037Z",
     "start_time": "2021-01-20T08:31:16.835501Z"
    }
   },
   "outputs": [
    {
     "ename": "TypeError",
     "evalue": "'tuple' object does not support item assignment",
     "output_type": "error",
     "traceback": [
      "\u001b[1;31m---------------------------------------------------------------------------\u001b[0m",
      "\u001b[1;31mTypeError\u001b[0m                                 Traceback (most recent call last)",
      "\u001b[1;32m<ipython-input-4-9d4ebbbeda57>\u001b[0m in \u001b[0;36m<module>\u001b[1;34m\u001b[0m\n\u001b[0;32m      1\u001b[0m \u001b[0ma\u001b[0m\u001b[1;33m[\u001b[0m\u001b[1;36m0\u001b[0m\u001b[1;33m]\u001b[0m \u001b[1;33m=\u001b[0m \u001b[1;36m0\u001b[0m \u001b[1;31m# 변경 가능(리스트)\u001b[0m\u001b[1;33m\u001b[0m\u001b[1;33m\u001b[0m\u001b[0m\n\u001b[1;32m----> 2\u001b[1;33m \u001b[0mb\u001b[0m\u001b[1;33m[\u001b[0m\u001b[1;36m0\u001b[0m\u001b[1;33m]\u001b[0m \u001b[1;33m=\u001b[0m \u001b[1;36m0\u001b[0m \u001b[1;31m# 변경 불가(튜플)\u001b[0m\u001b[1;33m\u001b[0m\u001b[1;33m\u001b[0m\u001b[0m\n\u001b[0m",
      "\u001b[1;31mTypeError\u001b[0m: 'tuple' object does not support item assignment"
     ]
    }
   ],
   "source": [
    "a[0] = 0 # 변경 가능(리스트)\n",
    "b[0] = 0 # 변경 불가(튜플)"
   ]
  },
  {
   "cell_type": "code",
   "execution_count": null,
   "metadata": {
    "ExecuteTime": {
     "end_time": "2021-01-20T08:31:16.976061Z",
     "start_time": "2021-01-20T08:31:16.768Z"
    }
   },
   "outputs": [],
   "source": [
    "c = (1)  # int로 인식\n",
    "d = (1,) # tuple로 인식\n",
    "print(type(c),type(d))"
   ]
  },
  {
   "cell_type": "markdown",
   "metadata": {},
   "source": [
    "### set\n",
    "---\n",
    "- 값을 순서없이 저장, 중복 불허 하는 자료형"
   ]
  },
  {
   "cell_type": "code",
   "execution_count": null,
   "metadata": {
    "ExecuteTime": {
     "end_time": "2021-01-20T08:31:16.981049Z",
     "start_time": "2021-01-20T08:31:16.773Z"
    }
   },
   "outputs": [],
   "source": [
    "s = set([1,2,3,1,2,3])\n",
    "print(s)"
   ]
  },
  {
   "cell_type": "code",
   "execution_count": null,
   "metadata": {
    "ExecuteTime": {
     "end_time": "2021-01-20T08:31:16.985281Z",
     "start_time": "2021-01-20T08:31:16.777Z"
    }
   },
   "outputs": [],
   "source": [
    "s.update([1,4,5,6,7])\n",
    "print(s)\n",
    "\n",
    "s.discard(3)\n",
    "print(s)"
   ]
  },
  {
   "cell_type": "markdown",
   "metadata": {},
   "source": [
    "- 수학에서 활용하는 다양한 집합 연산 가능"
   ]
  },
  {
   "cell_type": "code",
   "execution_count": null,
   "metadata": {
    "ExecuteTime": {
     "end_time": "2021-01-20T08:31:16.989868Z",
     "start_time": "2021-01-20T08:31:16.799Z"
    }
   },
   "outputs": [],
   "source": [
    "s1 = set([1,2,3,4,5])\n",
    "s2 = set([3,4,5,6,7])\n",
    "s1.union(s2)"
   ]
  },
  {
   "cell_type": "code",
   "execution_count": null,
   "metadata": {
    "ExecuteTime": {
     "end_time": "2021-01-20T08:31:16.992886Z",
     "start_time": "2021-01-20T08:31:16.807Z"
    }
   },
   "outputs": [],
   "source": [
    "s1 |s2"
   ]
  },
  {
   "cell_type": "code",
   "execution_count": null,
   "metadata": {
    "ExecuteTime": {
     "end_time": "2021-01-20T08:31:16.995891Z",
     "start_time": "2021-01-20T08:31:16.816Z"
    }
   },
   "outputs": [],
   "source": [
    " # 교집합\n",
    "s1.intersection(s2)\n",
    "s1 & s2"
   ]
  },
  {
   "cell_type": "code",
   "execution_count": null,
   "metadata": {
    "ExecuteTime": {
     "end_time": "2021-01-20T08:31:17.001840Z",
     "start_time": "2021-01-20T08:31:16.825Z"
    }
   },
   "outputs": [],
   "source": [
    " # s1과 s2의 차집합\n",
    "s1.difference(s2)\n",
    "s1 - s2"
   ]
  },
  {
   "cell_type": "markdown",
   "metadata": {},
   "source": [
    "### dict\n",
    "---\n",
    "- Key 값을 활용하여, 데이터 값(Value)를 관리함"
   ]
  },
  {
   "cell_type": "code",
   "execution_count": null,
   "metadata": {
    "ExecuteTime": {
     "end_time": "2021-01-20T08:31:17.004832Z",
     "start_time": "2021-01-20T08:31:16.848Z"
    }
   },
   "outputs": [],
   "source": [
    "country_code = {} # Dict 생성, country_code = dict() 도 가능\n",
    "country_code = {'America': 1, 'Korea': 82, 'China': 86, 'Japan': 81}\n",
    "country_code"
   ]
  },
  {
   "cell_type": "code",
   "execution_count": null,
   "metadata": {
    "ExecuteTime": {
     "end_time": "2021-01-20T08:31:17.008072Z",
     "start_time": "2021-01-20T08:31:16.853Z"
    }
   },
   "outputs": [],
   "source": [
    "country_code.items() # Dict 데이터 출력"
   ]
  },
  {
   "cell_type": "code",
   "execution_count": null,
   "metadata": {
    "ExecuteTime": {
     "end_time": "2021-01-20T08:31:17.011052Z",
     "start_time": "2021-01-20T08:31:16.858Z"
    }
   },
   "outputs": [],
   "source": [
    "country_code.keys() # Dict 키 값만 출력"
   ]
  },
  {
   "cell_type": "code",
   "execution_count": null,
   "metadata": {
    "ExecuteTime": {
     "end_time": "2021-01-20T08:31:17.016038Z",
     "start_time": "2021-01-20T08:31:16.868Z"
    }
   },
   "outputs": [],
   "source": [
    "country_code[\"German\"]= 49 # Dict 추가\n",
    "country_code"
   ]
  },
  {
   "cell_type": "code",
   "execution_count": null,
   "metadata": {
    "ExecuteTime": {
     "end_time": "2021-01-20T08:31:17.019031Z",
     "start_time": "2021-01-20T08:31:16.874Z"
    }
   },
   "outputs": [],
   "source": [
    "country_code.values() # Dict Value만 출력\n"
   ]
  },
  {
   "cell_type": "code",
   "execution_count": null,
   "metadata": {
    "ExecuteTime": {
     "end_time": "2021-01-20T08:31:17.022196Z",
     "start_time": "2021-01-20T08:31:16.879Z"
    }
   },
   "outputs": [],
   "source": [
    "import csv\n",
    "def getKey(item): # 정렬을 위한 함수\n",
    "    return item[1] # 신경 쓸 필요 없음\n",
    "\n",
    "\n",
    "command_data = [] # 파일 읽어오기\n",
    "\n",
    "with open(\"command_data.csv\", \"r\",encoding='utf-8') as csvfile:\n",
    "    spamreader = csv.reader(csvfile, delimiter=',', quotechar='\"')\n",
    "    for row in spamreader:\n",
    "        command_data.append(row)\n",
    "        \n",
    "        \n",
    "command_counter = {} # dict 생성, 아이디를 key값, 입력줄수를 value값\n",
    "for data in command_data: # list 데이터를 dict로 변경\n",
    "    if data[1] in command_counter.keys(): # 아이디가 이미 Key값으로 변경되었을 때\n",
    "        command_counter[data[1]] += 1 # 기존 출현한 아이디\n",
    "    else:\n",
    "        command_counter[data[1]] = 1 # 처음 나온 아이디\n",
    "        \n",
    "dictlist = [] # dict를 list로 변경\n",
    "for key, value in command_counter.items():\n",
    "    temp = [key,value]\n",
    "    dictlist.append(temp)\n",
    "    \n",
    "sorted_dict= sorted(dictlist, key=getKey, reverse=True) # list를 입력 줄 수로 정렬\n",
    "print (sorted_dict[:100]) "
   ]
  },
  {
   "attachments": {
    "image.png": {
     "image/png": "[encoded data removed]"
    }
   },
   "cell_type": "markdown",
   "metadata": {},
   "source": [
    "## collections\n",
    "---\n",
    "- List, Tuple, Dict에 대한 Python Built-in 확장 자료 구조(모듈)\n",
    "- 편의성, 실행 효율 등을 사용자에게 제공함\n",
    "- 아래의 모듈이 존재함\n",
    "![image.png](attachment:image.png)"
   ]
  },
  {
   "cell_type": "markdown",
   "metadata": {},
   "source": [
    "### deque\n",
    "---\n",
    "- Stack과 Queue를 지원하는 모듈\n",
    "- List에 비해 효율적 (빠름)\n",
    "- Lotate, reverse등 Linked List의 특성을 지원함"
   ]
  },
  {
   "cell_type": "code",
   "execution_count": null,
   "metadata": {
    "ExecuteTime": {
     "end_time": "2021-01-20T08:31:17.025639Z",
     "start_time": "2021-01-20T08:31:16.892Z"
    }
   },
   "outputs": [],
   "source": [
    "from collections import deque\n",
    "deque_list = deque()\n",
    "for i in range(5):\n",
    "    deque_list.append(i)\n",
    "print(deque_list)\n",
    "deque_list.appendleft(10)\n",
    "print(deque_list)"
   ]
  },
  {
   "cell_type": "code",
   "execution_count": null,
   "metadata": {
    "ExecuteTime": {
     "end_time": "2021-01-20T08:31:17.028338Z",
     "start_time": "2021-01-20T08:31:16.897Z"
    }
   },
   "outputs": [],
   "source": [
    "deque_list.rotate(1) # 시계 방향\n",
    "print(deque_list)\n",
    "print(deque(reversed(deque_list))) # 역순"
   ]
  },
  {
   "cell_type": "code",
   "execution_count": null,
   "metadata": {
    "ExecuteTime": {
     "end_time": "2021-01-20T08:31:17.035606Z",
     "start_time": "2021-01-20T08:31:16.902Z"
    }
   },
   "outputs": [],
   "source": [
    "deque_list.extend([5, 6, 7])\n",
    "print(deque_list)\n",
    "deque_list.extendleft([5, 6, 7])\n",
    "print(deque_list)"
   ]
  },
  {
   "cell_type": "markdown",
   "metadata": {},
   "source": [
    "### 덱 vs List 시간비교 "
   ]
  },
  {
   "cell_type": "code",
   "execution_count": null,
   "metadata": {
    "ExecuteTime": {
     "end_time": "2021-01-20T08:31:17.037548Z",
     "start_time": "2021-01-20T08:31:16.915Z"
    }
   },
   "outputs": [],
   "source": [
    "from collections import deque\n",
    "import time\n",
    "start_time = time.clock()\n",
    "deque_list = deque()\n",
    "# Stack\n",
    "for i in range(10000):\n",
    "    for i in range(10000):\n",
    "        deque_list.append(i)\n",
    "        deque_list.pop()\n",
    "print(time.clock() - start_time, \"seconds\")"
   ]
  },
  {
   "cell_type": "code",
   "execution_count": null,
   "metadata": {
    "ExecuteTime": {
     "end_time": "2021-01-20T08:31:17.041092Z",
     "start_time": "2021-01-20T08:31:16.920Z"
    }
   },
   "outputs": [],
   "source": [
    "import time\n",
    "start_time = time.clock()\n",
    "just_list = []\n",
    "for i in range(10000):\n",
    "    for i in range(10000):\n",
    "        just_list.append(i)\n",
    "        just_list.pop()\n",
    "print(time.clock() - start_time, \"seconds\")"
   ]
  },
  {
   "cell_type": "markdown",
   "metadata": {},
   "source": [
    "### OrderedDict\n",
    "---\n",
    "- Dict와 달리, 데이터를 입력한 순서대로 dict를 반환\n",
    "- 잘 안쓸듯"
   ]
  },
  {
   "cell_type": "markdown",
   "metadata": {},
   "source": [
    "### namedtuple\n",
    "---\n",
    "- Tuple 형태로 Data 구조체를 저장하는 방법\n",
    "- 저장되는 data의 variable을 사전에 지정해서 저장함"
   ]
  },
  {
   "cell_type": "markdown",
   "metadata": {},
   "source": [
    "## Pythonic code\n",
    "---\n",
    "- 파이썬 스타일의 코딩 기법\n",
    "- 파이썬 특유의 문법을 활용하여 효율적으로 코드를 표현함\n",
    "- 고급 코드를 작성할 수록 더 많이 필요해짐"
   ]
  },
  {
   "cell_type": "markdown",
   "metadata": {},
   "source": [
    "### split & join\n",
    "---"
   ]
  },
  {
   "cell_type": "code",
   "execution_count": null,
   "metadata": {
    "ExecuteTime": {
     "end_time": "2021-01-20T08:31:17.043565Z",
     "start_time": "2021-01-20T08:31:16.936Z"
    }
   },
   "outputs": [],
   "source": [
    "items = 'one two three four'.split()\n",
    "print(items)\n",
    "items_join = ' '.join(items)\n",
    "print(items_join)"
   ]
  },
  {
   "cell_type": "markdown",
   "metadata": {},
   "source": [
    "### list comprehension\n",
    "---\n"
   ]
  },
  {
   "cell_type": "code",
   "execution_count": null,
   "metadata": {
    "ExecuteTime": {
     "end_time": "2021-01-20T08:31:17.047560Z",
     "start_time": "2021-01-20T08:31:16.940Z"
    }
   },
   "outputs": [],
   "source": [
    "result = []\n",
    "for i in range(10):\n",
    "    result.append(i)\n",
    "\n",
    "result"
   ]
  },
  {
   "cell_type": "code",
   "execution_count": null,
   "metadata": {
    "ExecuteTime": {
     "end_time": "2021-01-20T08:31:17.051548Z",
     "start_time": "2021-01-20T08:31:16.944Z"
    }
   },
   "outputs": [],
   "source": [
    "result = [i for i in range(10)]\n",
    "result"
   ]
  },
  {
   "cell_type": "code",
   "execution_count": null,
   "metadata": {
    "ExecuteTime": {
     "end_time": "2021-01-20T08:31:17.055519Z",
     "start_time": "2021-01-20T08:31:16.950Z"
    }
   },
   "outputs": [],
   "source": [
    "result = [i for i in range(10) if i % 2 ==0]\n",
    "result"
   ]
  },
  {
   "cell_type": "code",
   "execution_count": null,
   "metadata": {
    "ExecuteTime": {
     "end_time": "2021-01-20T08:31:17.057493Z",
     "start_time": "2021-01-20T08:31:16.954Z"
    }
   },
   "outputs": [],
   "source": [
    "word_1 = 'hello'\n",
    "word_2 = 'world'\n",
    "result = [i+j for i  in word_1 for j in word_2]\n",
    "result"
   ]
  },
  {
   "cell_type": "code",
   "execution_count": null,
   "metadata": {
    "ExecuteTime": {
     "end_time": "2021-01-20T08:31:17.060645Z",
     "start_time": "2021-01-20T08:31:16.958Z"
    }
   },
   "outputs": [],
   "source": [
    "case_1 = ['a','b','c']\n",
    "case_2 = ['d','b','f']\n",
    "\n",
    "result = [i+j for i in case_1 for j in case_2 if not(i==j)]\n",
    "print(result)"
   ]
  },
  {
   "cell_type": "code",
   "execution_count": null,
   "metadata": {
    "ExecuteTime": {
     "end_time": "2021-01-20T08:31:17.064324Z",
     "start_time": "2021-01-20T08:31:16.963Z"
    }
   },
   "outputs": [],
   "source": [
    "words = 'The quick brown fox jumps over the lazy dog'.split()\n",
    "\n",
    "print(words)\n",
    "\n",
    "stuff = [[w.upper(),w.lower(),len(w)]for w in words]\n",
    "\n",
    "for i in stuff:\n",
    "    print(i)"
   ]
  },
  {
   "cell_type": "markdown",
   "metadata": {},
   "source": [
    "### enumerate & zip"
   ]
  },
  {
   "cell_type": "code",
   "execution_count": 5,
   "metadata": {
    "ExecuteTime": {
     "end_time": "2021-01-20T08:31:17.180292Z",
     "start_time": "2021-01-20T08:31:17.173333Z"
    }
   },
   "outputs": [
    {
     "name": "stdout",
     "output_type": "stream",
     "text": [
      "0 tic\n",
      "1 tac\n",
      "2 toe\n"
     ]
    }
   ],
   "source": [
    "for i, v in enumerate(['tic', 'tac', 'toe']):\n",
    "    print(i,v)"
   ]
  },
  {
   "cell_type": "code",
   "execution_count": 6,
   "metadata": {
    "ExecuteTime": {
     "end_time": "2021-01-20T08:31:17.195252Z",
     "start_time": "2021-01-20T08:31:17.185279Z"
    }
   },
   "outputs": [
    {
     "name": "stdout",
     "output_type": "stream",
     "text": [
      "a1 b1\n",
      "a2 b2\n",
      "a3 b3\n"
     ]
    }
   ],
   "source": [
    "alist = ['a1','a2','a3']\n",
    "blist = ['b1','b2','b3']\n",
    "for a,b in zip(alist,blist): # 병렬적으로 값을 추출\n",
    "    print(a,b)"
   ]
  },
  {
   "cell_type": "code",
   "execution_count": 7,
   "metadata": {
    "ExecuteTime": {
     "end_time": "2021-01-20T08:31:17.225400Z",
     "start_time": "2021-01-20T08:31:17.200461Z"
    }
   },
   "outputs": [
    {
     "data": {
      "text/plain": [
       "[111, 222, 333]"
      ]
     },
     "execution_count": 7,
     "metadata": {},
     "output_type": "execute_result"
    }
   ],
   "source": [
    "[sum (x) for x in zip((1,2,3), (10,20,30), (100,200,300))]"
   ]
  },
  {
   "cell_type": "markdown",
   "metadata": {},
   "source": [
    "### lambda & map & reduce\n",
    "---"
   ]
  },
  {
   "cell_type": "markdown",
   "metadata": {},
   "source": [
    "- lambda : 함수이름 없이, 함수처럼 쓸 수 있는 익명 함수"
   ]
  },
  {
   "cell_type": "code",
   "execution_count": 8,
   "metadata": {
    "ExecuteTime": {
     "end_time": "2021-01-20T08:31:17.244159Z",
     "start_time": "2021-01-20T08:31:17.230355Z"
    }
   },
   "outputs": [
    {
     "name": "stdout",
     "output_type": "stream",
     "text": [
      "5\n",
      "60\n"
     ]
    },
    {
     "data": {
      "text/plain": [
       "60"
      ]
     },
     "execution_count": 8,
     "metadata": {},
     "output_type": "execute_result"
    }
   ],
   "source": [
    "def f(x, y):\n",
    "    return x + y\n",
    "\n",
    "print(f(1, 4))\n",
    "\n",
    "f = (lambda x, y: x + y)\n",
    "print(f(10, 50))\n",
    "(lambda x, y: x + y)(10, 50)"
   ]
  },
  {
   "cell_type": "markdown",
   "metadata": {},
   "source": [
    "#### lambda 문제점\n",
    "    - 어려운 문법\n",
    "    - 테스트의 어려움\n",
    "    - 문서화 docstring 지원 미비\n",
    "    - 코드 해석이 어려움\n",
    "    - 그래도 많이 쓴다 .."
   ]
  },
  {
   "cell_type": "code",
   "execution_count": 9,
   "metadata": {
    "ExecuteTime": {
     "end_time": "2021-01-20T08:31:17.259085Z",
     "start_time": "2021-01-20T08:31:17.250700Z"
    }
   },
   "outputs": [
    {
     "name": "stdout",
     "output_type": "stream",
     "text": [
      "[2, 4, 6, 8, 10]\n"
     ]
    }
   ],
   "source": [
    "ex = [1,2,3,4,5]\n",
    "f = lambda x, y: x + y\n",
    "print(list(map(f, ex, ex)))"
   ]
  },
  {
   "cell_type": "code",
   "execution_count": 10,
   "metadata": {
    "ExecuteTime": {
     "end_time": "2021-01-20T08:31:17.276255Z",
     "start_time": "2021-01-20T08:31:17.264073Z"
    }
   },
   "outputs": [
    {
     "name": "stdout",
     "output_type": "stream",
     "text": [
      "[2, 4, 6, 8, 10]\n",
      "<map object at 0x000001E63E2C9940>\n",
      "<map object at 0x000001E63E2C9898>\n",
      "1\n",
      "4\n",
      "9\n",
      "16\n",
      "25\n"
     ]
    }
   ],
   "source": [
    "ex = [1,2,3,4,5]\n",
    "print(list(map(lambda x: x+x, ex))) # 이렇게 리스트를 붙여줘야됨\n",
    "print((map(lambda x: x+x, ex)))\n",
    "\n",
    "f = lambda x: x **2\n",
    "print(map(f,ex))\n",
    "for i in map(f,ex):\n",
    "    print(i)"
   ]
  },
  {
   "cell_type": "markdown",
   "metadata": {},
   "source": [
    "#### reduce\n",
    "---\n",
    "- map function과 달리 list에 똑같은 함수를 적용해서 통합"
   ]
  },
  {
   "cell_type": "code",
   "execution_count": 11,
   "metadata": {
    "ExecuteTime": {
     "end_time": "2021-01-20T08:31:17.294024Z",
     "start_time": "2021-01-20T08:31:17.283185Z"
    }
   },
   "outputs": [
    {
     "data": {
      "text/plain": [
       "15"
      ]
     },
     "execution_count": 11,
     "metadata": {},
     "output_type": "execute_result"
    }
   ],
   "source": [
    "from functools import reduce\n",
    "reduce(lambda x,y : x+ y,[1,2,3,4,5])"
   ]
  },
  {
   "cell_type": "markdown",
   "metadata": {},
   "source": [
    "#### literable object\n",
    "---\n",
    "- 내부적 구현으로 \\_\\_iter__와 \\_\\_next__가 사용됨\n",
    "- iter()와 next() 함수로 iterable 객체를 iterator object로 사용"
   ]
  },
  {
   "cell_type": "code",
   "execution_count": 12,
   "metadata": {
    "ExecuteTime": {
     "end_time": "2021-01-20T08:31:17.308985Z",
     "start_time": "2021-01-20T08:31:17.300280Z"
    }
   },
   "outputs": [
    {
     "data": {
      "text/plain": [
       "['Seoul', 'Busan', 'Jeju']"
      ]
     },
     "execution_count": 12,
     "metadata": {},
     "output_type": "execute_result"
    }
   ],
   "source": [
    "cities = ['Seoul','Busan','Jeju']\n",
    "cities"
   ]
  },
  {
   "cell_type": "code",
   "execution_count": 13,
   "metadata": {
    "ExecuteTime": {
     "end_time": "2021-01-20T08:31:17.323946Z",
     "start_time": "2021-01-20T08:31:17.314974Z"
    }
   },
   "outputs": [
    {
     "data": {
      "text/plain": [
       "<list_iterator at 0x1e63e2aaa90>"
      ]
     },
     "execution_count": 13,
     "metadata": {},
     "output_type": "execute_result"
    }
   ],
   "source": [
    "memory_address_cities =  iter(cities)\n",
    "memory_address_cities"
   ]
  },
  {
   "cell_type": "code",
   "execution_count": 14,
   "metadata": {
    "ExecuteTime": {
     "end_time": "2021-01-20T08:31:17.337440Z",
     "start_time": "2021-01-20T08:31:17.327935Z"
    }
   },
   "outputs": [
    {
     "data": {
      "text/plain": [
       "'Seoul'"
      ]
     },
     "execution_count": 14,
     "metadata": {},
     "output_type": "execute_result"
    }
   ],
   "source": [
    "next(memory_address_cities)"
   ]
  },
  {
   "cell_type": "code",
   "execution_count": 15,
   "metadata": {
    "ExecuteTime": {
     "end_time": "2021-01-20T08:31:17.348951Z",
     "start_time": "2021-01-20T08:31:17.341428Z"
    }
   },
   "outputs": [
    {
     "data": {
      "text/plain": [
       "'Busan'"
      ]
     },
     "execution_count": 15,
     "metadata": {},
     "output_type": "execute_result"
    }
   ],
   "source": [
    "next(memory_address_cities)"
   ]
  },
  {
   "cell_type": "code",
   "execution_count": 16,
   "metadata": {
    "ExecuteTime": {
     "end_time": "2021-01-20T08:31:17.369952Z",
     "start_time": "2021-01-20T08:31:17.354965Z"
    }
   },
   "outputs": [
    {
     "data": {
      "text/plain": [
       "'Jeju'"
      ]
     },
     "execution_count": 16,
     "metadata": {},
     "output_type": "execute_result"
    }
   ],
   "source": [
    "next(memory_address_cities)"
   ]
  },
  {
   "cell_type": "markdown",
   "metadata": {},
   "source": [
    "### generator\n",
    "--- \n",
    "- iterable object를 특수한 형태로 사용해주는 함수\n",
    "- element가 사용되는 시점에 값을 메모리에 반환   \n",
    "    : yield를 사용해 한번에 하나의 element만 반환함"
   ]
  },
  {
   "cell_type": "code",
   "execution_count": 17,
   "metadata": {
    "ExecuteTime": {
     "end_time": "2021-01-20T08:31:17.382930Z",
     "start_time": "2021-01-20T08:31:17.374939Z"
    }
   },
   "outputs": [],
   "source": [
    "def general_list(value):\n",
    "    result = []\n",
    "    for i in range(value):\n",
    "        result.append(i)\n",
    "    return result"
   ]
  },
  {
   "cell_type": "code",
   "execution_count": 18,
   "metadata": {
    "ExecuteTime": {
     "end_time": "2021-01-20T08:31:17.397119Z",
     "start_time": "2021-01-20T08:31:17.387496Z"
    }
   },
   "outputs": [
    {
     "data": {
      "text/plain": [
       "[0, 1, 2, 3, 4, 5, 6, 7, 8, 9]"
      ]
     },
     "execution_count": 18,
     "metadata": {},
     "output_type": "execute_result"
    }
   ],
   "source": [
    "general_list(10)"
   ]
  },
  {
   "cell_type": "code",
   "execution_count": 19,
   "metadata": {
    "ExecuteTime": {
     "end_time": "2021-01-20T08:31:17.409896Z",
     "start_time": "2021-01-20T08:31:17.402915Z"
    }
   },
   "outputs": [],
   "source": [
    "def geneartor_list(value):\n",
    "    result = []\n",
    "    for i in range(value):\n",
    "        yield i"
   ]
  },
  {
   "cell_type": "code",
   "execution_count": 20,
   "metadata": {
    "ExecuteTime": {
     "end_time": "2021-01-20T08:31:17.434799Z",
     "start_time": "2021-01-20T08:31:17.423823Z"
    }
   },
   "outputs": [
    {
     "name": "stdout",
     "output_type": "stream",
     "text": [
      "0\n",
      "1\n",
      "2\n",
      "3\n",
      "4\n",
      "5\n",
      "6\n",
      "7\n",
      "8\n",
      "9\n"
     ]
    }
   ],
   "source": [
    "for a in geneartor_list(10):\n",
    "    print(a)\n",
    "    "
   ]
  },
  {
   "cell_type": "markdown",
   "metadata": {},
   "source": [
    "### generator comprehension\n",
    "---\n",
    "- list comprehension과 유사한 형태로 generator 형태의 list 생성\n",
    "- generator expression 이라는 이름으로도 부름\n",
    "- [] 대신 ()를 사용하여 표현"
   ]
  },
  {
   "cell_type": "code",
   "execution_count": 21,
   "metadata": {
    "ExecuteTime": {
     "end_time": "2021-01-20T08:31:17.451045Z",
     "start_time": "2021-01-20T08:31:17.439855Z"
    }
   },
   "outputs": [
    {
     "name": "stdout",
     "output_type": "stream",
     "text": [
      "<class 'generator'>\n"
     ]
    }
   ],
   "source": [
    "gen_ex = (n*n for n in range(500))\n",
    "print(type(gen_ex))"
   ]
  },
  {
   "cell_type": "markdown",
   "metadata": {},
   "source": [
    "### generator 를 언제쓰냐\n",
    "---\n",
    "- list 타입의 데이터를 반환해주는 함수는 generator 로 만듦  \n",
    "  : 읽기 쉬운 장점, 중간 과정에서 loop 가 중단될 수 있을 때\n",
    "- 큰 데이터를 처리할 때는 generator expression을 고려하라  \n",
    "   : 데이터가 커도 처리의 어려움이 없음\n",
    "- 파일 데이터를 처리할 때도 generator를 쓰자\n",
    "  "
   ]
  },
  {
   "cell_type": "markdown",
   "metadata": {},
   "source": [
    "## function passing arguments\n",
    "---\n",
    "- 함수에 입력되는 arguments의 다양한 형태\n",
    "    - Keyword arguments\n",
    "    - Default arguments\n",
    "    - Variable-lenght arguments"
   ]
  },
  {
   "cell_type": "markdown",
   "metadata": {},
   "source": [
    "**Keyword arguments**"
   ]
  },
  {
   "cell_type": "code",
   "execution_count": 22,
   "metadata": {
    "ExecuteTime": {
     "end_time": "2021-01-20T08:31:17.465987Z",
     "start_time": "2021-01-20T08:31:17.455951Z"
    }
   },
   "outputs": [
    {
     "name": "stdout",
     "output_type": "stream",
     "text": [
      "Hello TEAMLAB, My name is Sungchul\n",
      "Hello TEAMLAB, My name is Sungchul\n"
     ]
    }
   ],
   "source": [
    "def print_somthing(my_name, your_name):\n",
    "    print(\"Hello {0}, My name is {1}\".format(your_name, my_name))\n",
    "print_somthing(\"Sungchul\", \"TEAMLAB\")\n",
    "print_somthing(your_name=\"TEAMLAB\", my_name=\"Sungchul\")"
   ]
  },
  {
   "cell_type": "markdown",
   "metadata": {},
   "source": [
    "**Default arguments**\n",
    "- parameter의 기본 값을 사용, 입력하지 않을 경우 기본 값 출력\n"
   ]
  },
  {
   "cell_type": "code",
   "execution_count": 23,
   "metadata": {
    "ExecuteTime": {
     "end_time": "2021-01-20T08:31:17.488087Z",
     "start_time": "2021-01-20T08:31:17.471973Z"
    }
   },
   "outputs": [
    {
     "name": "stdout",
     "output_type": "stream",
     "text": [
      "Hello TEAMLAB, My name is Sungchul\n",
      "Hello TEAMLAB, My name is Sungchul\n"
     ]
    }
   ],
   "source": [
    "def print_somthing_2(my_name, your_name = 'TEAMLAB'):\n",
    "    print(\"Hello {0}, My name is {1}\".format(your_name, my_name))\n",
    "print_somthing_2(\"Sungchul\", \"TEAMLAB\")\n",
    "print_somthing_2(\"Sungchul\")"
   ]
  },
  {
   "cell_type": "markdown",
   "metadata": {},
   "source": [
    "## variable-length asterisk"
   ]
  },
  {
   "cell_type": "markdown",
   "metadata": {},
   "source": [
    "### 가변인자 using asterisk\n",
    "---\n",
    "- 개수가 정해지지 않은 변수를 함수의 parameter로 사용하는 법\n",
    "- Keyword arguments와 함께, argument 추가가 가능\n",
    "- Asterisk(\\*) 기호를 사용하여 함수의 parameter 를 표시함\n",
    "- 입력된 값은 tuple type로 사용할 수 있음\n",
    "- 가변인자는 오직 한 개만 맨 마지막 parameter 위치에 사용가능"
   ]
  },
  {
   "cell_type": "markdown",
   "metadata": {},
   "source": [
    "### 가변인자 (variable-length)\n",
    "- 가변인자는 일반적으로 *args를 변수명으로 사용\n",
    "- 기존 parameter 이후에 나오는 값을 tuple로 저장함\n"
   ]
  },
  {
   "cell_type": "code",
   "execution_count": 24,
   "metadata": {
    "ExecuteTime": {
     "end_time": "2021-01-20T08:31:17.502203Z",
     "start_time": "2021-01-20T08:31:17.492077Z"
    }
   },
   "outputs": [
    {
     "name": "stdout",
     "output_type": "stream",
     "text": [
      "[3, 4, 5]\n",
      "<class 'tuple'>\n"
     ]
    }
   ],
   "source": [
    "def asterisk_test(a,b,*args):\n",
    "    print(list(args))\n",
    "    print(type(args))\n",
    "\n",
    "asterisk_test(1,2,3,4,5)"
   ]
  },
  {
   "cell_type": "markdown",
   "metadata": {},
   "source": [
    "### 키워드 가변인자(Keyword variable-length)\n",
    "---\n",
    "- Parameter 이름을 따로 지정하지 않고 입력하는 방법\n",
    "- asterisk(*) 두개를 사용하여 함수의 parameter를 표시함\n",
    "- 입력된 값은 dict type로 사용할 수 있음\n",
    "- 가변인자는 오직 한개만 기존 가변인자 다음에 사용"
   ]
  },
  {
   "cell_type": "code",
   "execution_count": 25,
   "metadata": {
    "ExecuteTime": {
     "end_time": "2021-01-20T08:31:17.521197Z",
     "start_time": "2021-01-20T08:31:17.509091Z"
    }
   },
   "outputs": [
    {
     "name": "stdout",
     "output_type": "stream",
     "text": [
      "42\n",
      "(5, 6, 7, 8, 9)\n",
      "{'first': 3, 'second': 4, 'third': 5}\n"
     ]
    }
   ],
   "source": [
    "def kwargs_test_3(one, two,*args,**kwargs):\n",
    "    print(one+two+sum(args))\n",
    "    print(args)\n",
    "    print(kwargs)\n",
    "\n",
    "\n",
    "kwargs_test_3(3, 4, 5, 6, 7, 8, 9, first=3, second=4, third=5)"
   ]
  },
  {
   "cell_type": "markdown",
   "metadata": {},
   "source": [
    "### asterisk - unpacking a container\n",
    "---\n",
    "- tuple, dict 등 자료형에 들어가 있는 값을 unpacking\n",
    "- 함수의 입력값, zip 등에 유용하게 사용가능"
   ]
  },
  {
   "cell_type": "code",
   "execution_count": 26,
   "metadata": {
    "ExecuteTime": {
     "end_time": "2021-01-20T08:31:17.539070Z",
     "start_time": "2021-01-20T08:31:17.525293Z"
    }
   },
   "outputs": [
    {
     "name": "stdout",
     "output_type": "stream",
     "text": [
      "1 (2, 3, 4, 5, 6)\n",
      "1 2 3 4 5 6\n",
      "<class 'tuple'>\n"
     ]
    }
   ],
   "source": [
    "def func(a, *args):\n",
    "    print(a,args)\n",
    "    print(a,*args)\n",
    "    print(type(args))\n",
    "func(1, *(2,3,4,5,6))"
   ]
  },
  {
   "cell_type": "markdown",
   "metadata": {},
   "source": [
    "# 피어세션 정리\n",
    "---\n",
    "1. 각자 전날 작성한 학습 정리 공유 하며 토론\n",
    "2. 어제 진행한 과제에 대해 서로 모르는 것에 대한 공유\n",
    "3. 오늘 할 공부 내용 공유\n",
    "4. 조교님과 아이스 브레이킹 타임 "
   ]
  }
 ],
 "metadata": {
  "kernelspec": {
   "display_name": "Python 3",
   "language": "python",
   "name": "python3"
  },
  "language_info": {
   "codemirror_mode": {
    "name": "ipython",
    "version": 3
   },
   "file_extension": ".py",
   "mimetype": "text/x-python",
   "name": "python",
   "nbconvert_exporter": "python",
   "pygments_lexer": "ipython3",
   "version": "3.7.3"
  }
 },
 "nbformat": 4,
 "nbformat_minor": 2
}
