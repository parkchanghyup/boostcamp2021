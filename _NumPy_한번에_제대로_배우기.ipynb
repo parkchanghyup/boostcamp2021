{
 "cells": [
  {
   "cell_type": "markdown",
   "metadata": {
    "id": "J_FfQuu2Tb30"
   },
   "source": [
    "# NumPy 한번에 제대로 배우기"
   ]
  },
  {
   "cell_type": "markdown",
   "metadata": {
    "id": "Zgrrh9T2vs8u"
   },
   "source": [
    "\n",
    "\n",
    "---\n",
    "\n"
   ]
  },
  {
   "cell_type": "markdown",
   "metadata": {
    "id": "oR5hNBH-Retd"
   },
   "source": [
    "## NumPy 특징\n",
    "\n",
    "* Numerical Python의 약자\n",
    "* 고성능 과학 계산용 패키지로 강력한 N차원 배열 객체\n",
    "* 범용적 데이터 처리에 사용 가능한 다차원 컨테이너\n",
    "* 정교한 브로드캐스팅(broadcasting) 기능\n",
    "* 파이썬의 자료형 list와 비슷하지만, 더 빠르고 메모리를 효율적으로 관리\n",
    "* 반복문 없이 데이터 배열에 대한 처리를 지원하여 빠르고 편리\n",
    "* 데이터 과학 도구에 대한 생태계의 핵심을 이루고 있음"
   ]
  },
  {
   "cell_type": "code",
   "execution_count": 2,
   "metadata": {
    "ExecuteTime": {
     "end_time": "2021-01-25T01:53:32.906958Z",
     "start_time": "2021-01-25T01:53:32.653571Z"
    },
    "id": "R9klTdhLQ564"
   },
   "outputs": [],
   "source": [
    "import numpy as np"
   ]
  },
  {
   "cell_type": "markdown",
   "metadata": {
    "id": "2hSWC5ptGyWP"
   },
   "source": [
    "\n",
    "\n",
    "---\n",
    "\n"
   ]
  },
  {
   "cell_type": "markdown",
   "metadata": {
    "id": "1kgkJZFlVUqk"
   },
   "source": [
    "## 배열 생성"
   ]
  },
  {
   "cell_type": "markdown",
   "metadata": {
    "id": "5eQ4sAkMbzm0"
   },
   "source": [
    "### 리스트로 배열 만들기\n"
   ]
  },
  {
   "cell_type": "code",
   "execution_count": 3,
   "metadata": {
    "ExecuteTime": {
     "end_time": "2021-01-25T01:53:34.161185Z",
     "start_time": "2021-01-25T01:53:34.145229Z"
    },
    "id": "Mtod2jcPWVvV"
   },
   "outputs": [
    {
     "name": "stdout",
     "output_type": "stream",
     "text": [
      "[1 2 3 4 5]\n",
      "<class 'numpy.ndarray'>\n",
      "(5,)\n"
     ]
    }
   ],
   "source": [
    "a1 = np.array([1,2,3,4,5])\n",
    "print(a1)\n",
    "print(type(a1))\n",
    "print(a1.shape)"
   ]
  },
  {
   "cell_type": "code",
   "execution_count": 4,
   "metadata": {
    "ExecuteTime": {
     "end_time": "2021-01-25T01:54:12.960675Z",
     "start_time": "2021-01-25T01:54:12.955662Z"
    },
    "id": "vp9tkHH8esXT"
   },
   "outputs": [
    {
     "name": "stdout",
     "output_type": "stream",
     "text": [
      "1 2 3 4 5\n"
     ]
    }
   ],
   "source": [
    "print(a1[0],a1[1],a1[2],a1[3],a1[4])"
   ]
  },
  {
   "cell_type": "code",
   "execution_count": 6,
   "metadata": {
    "ExecuteTime": {
     "end_time": "2021-01-25T01:56:04.749235Z",
     "start_time": "2021-01-25T01:56:04.736241Z"
    },
    "id": "Baj4gZ2meuJu"
   },
   "outputs": [
    {
     "name": "stdout",
     "output_type": "stream",
     "text": [
      "[[1 2 3]\n",
      " [4 5 6]\n",
      " [7 8 9]]\n",
      "(3, 3)\n",
      "1 5 9\n"
     ]
    }
   ],
   "source": [
    "a2 = np.array([[1,2,3],[4,5,6],[7,8,9]])\n",
    "print(a2)\n",
    "print(a2.shape)\n",
    "print(a2[0,0],a2[1,1],a2[2,2])"
   ]
  },
  {
   "cell_type": "markdown",
   "metadata": {
    "id": "PNkKtw4CoSDB"
   },
   "source": [
    "### 배열 생성 및 초기화"
   ]
  },
  {
   "cell_type": "markdown",
   "metadata": {
    "id": "mJVii5p_VfgM"
   },
   "source": [
    "* `zeros()`: 모든 요소를 0으로 초기화"
   ]
  },
  {
   "cell_type": "code",
   "execution_count": 11,
   "metadata": {
    "ExecuteTime": {
     "end_time": "2021-01-25T01:59:41.097224Z",
     "start_time": "2021-01-25T01:59:41.086277Z"
    },
    "id": "W_SF1tVoVTf1"
   },
   "outputs": [
    {
     "data": {
      "text/plain": [
       "array([[[0., 0.],\n",
       "        [0., 0.]],\n",
       "\n",
       "       [[0., 0.],\n",
       "        [0., 0.]]])"
      ]
     },
     "execution_count": 11,
     "metadata": {},
     "output_type": "execute_result"
    }
   ],
   "source": [
    "np.zeros([2,2,2])"
   ]
  },
  {
   "cell_type": "markdown",
   "metadata": {
    "id": "LjYFQrODVqhX"
   },
   "source": [
    "* `ones()`: 모든 요소를 1로 초기화"
   ]
  },
  {
   "cell_type": "code",
   "execution_count": 13,
   "metadata": {
    "ExecuteTime": {
     "end_time": "2021-01-25T02:00:02.238110Z",
     "start_time": "2021-01-25T02:00:02.220388Z"
    },
    "id": "MURoqsMsVeUw"
   },
   "outputs": [
    {
     "data": {
      "text/plain": [
       "array([[1., 1.],\n",
       "       [1., 1.]])"
      ]
     },
     "execution_count": 13,
     "metadata": {},
     "output_type": "execute_result"
    }
   ],
   "source": [
    "np.ones([2,2])"
   ]
  },
  {
   "cell_type": "markdown",
   "metadata": {
    "id": "jnmm3Cj-cGtx"
   },
   "source": [
    "* `full()`: 모든 요소를 지정한 값으로 초기화"
   ]
  },
  {
   "cell_type": "code",
   "execution_count": 18,
   "metadata": {
    "ExecuteTime": {
     "end_time": "2021-01-25T02:00:29.596919Z",
     "start_time": "2021-01-25T02:00:29.582957Z"
    },
    "id": "oscabrdcV7Ny"
   },
   "outputs": [
    {
     "data": {
      "text/plain": [
       "array([[5, 5],\n",
       "       [5, 5]])"
      ]
     },
     "execution_count": 18,
     "metadata": {},
     "output_type": "execute_result"
    }
   ],
   "source": [
    "np.full([2,2],5)"
   ]
  },
  {
   "cell_type": "markdown",
   "metadata": {
    "id": "0SRI4jbmlIKc"
   },
   "source": [
    "* `eye()`: 단위행렬(identity matrix) 생성\n",
    "  + 주대각선의 원소가 모두 1이고 나머지 원소는 모두 0인 정사각 행렬"
   ]
  },
  {
   "cell_type": "code",
   "execution_count": 19,
   "metadata": {
    "ExecuteTime": {
     "end_time": "2021-01-25T02:00:36.717215Z",
     "start_time": "2021-01-25T02:00:36.697270Z"
    },
    "id": "VceBVLLjk9o5"
   },
   "outputs": [
    {
     "data": {
      "text/plain": [
       "array([[1., 0., 0.],\n",
       "       [0., 1., 0.],\n",
       "       [0., 0., 1.]])"
      ]
     },
     "execution_count": 19,
     "metadata": {},
     "output_type": "execute_result"
    }
   ],
   "source": [
    "np.eye(3)"
   ]
  },
  {
   "cell_type": "markdown",
   "metadata": {
    "id": "7CCH1ZMT5R02"
   },
   "source": [
    "* `tri()`: 삼각행렬 생성"
   ]
  },
  {
   "cell_type": "code",
   "execution_count": 23,
   "metadata": {
    "ExecuteTime": {
     "end_time": "2021-01-25T02:00:57.520912Z",
     "start_time": "2021-01-25T02:00:57.501964Z"
    },
    "id": "mLe2Bhj05VYu"
   },
   "outputs": [
    {
     "data": {
      "text/plain": [
       "array([[1., 0., 0.],\n",
       "       [1., 1., 0.],\n",
       "       [1., 1., 1.]])"
      ]
     },
     "execution_count": 23,
     "metadata": {},
     "output_type": "execute_result"
    }
   ],
   "source": [
    "np.tri(3)"
   ]
  },
  {
   "cell_type": "markdown",
   "metadata": {
    "id": "ObZRA4HclZlO"
   },
   "source": [
    "* `empty()`: 초기화되지 않은 배열 생성\n",
    "  + 초기화가 없어서 배열 생성비용 저렴하고 빠름\n",
    "  + 초기화되지 않아서 기존 메모리 위치에 존재하는 값이 있음"
   ]
  },
  {
   "cell_type": "code",
   "execution_count": 24,
   "metadata": {
    "ExecuteTime": {
     "end_time": "2021-01-25T02:01:05.400765Z",
     "start_time": "2021-01-25T02:01:05.388796Z"
    },
    "id": "I3SoFgiglAkz"
   },
   "outputs": [
    {
     "data": {
      "text/plain": [
       "array([0., 0., 0., 0., 0., 0., 0., 0., 0., 0.])"
      ]
     },
     "execution_count": 24,
     "metadata": {},
     "output_type": "execute_result"
    }
   ],
   "source": [
    "np.empty(10)"
   ]
  },
  {
   "cell_type": "markdown",
   "metadata": {
    "id": "p3uSl1Ccmi5_"
   },
   "source": [
    "* `_like()`: 지정된 배열과 shape가 같은 행렬 생성\n",
    "  + `np.zeros_like()`\n",
    "  + `np.ones_like()`\n",
    "  + `np.full_like()`\n",
    "  + `np.empty_like()`"
   ]
  },
  {
   "cell_type": "code",
   "execution_count": 25,
   "metadata": {
    "ExecuteTime": {
     "end_time": "2021-01-25T02:01:36.843324Z",
     "start_time": "2021-01-25T02:01:36.828392Z"
    },
    "id": "Ad5RskRRlZLs"
   },
   "outputs": [
    {
     "name": "stdout",
     "output_type": "stream",
     "text": [
      "[1 2 3 4 5]\n"
     ]
    },
    {
     "data": {
      "text/plain": [
       "array([0, 0, 0, 0, 0])"
      ]
     },
     "execution_count": 25,
     "metadata": {},
     "output_type": "execute_result"
    }
   ],
   "source": [
    "print(a1)\n",
    "np.zeros_like(a1)"
   ]
  },
  {
   "cell_type": "code",
   "execution_count": 27,
   "metadata": {
    "ExecuteTime": {
     "end_time": "2021-01-25T02:02:41.754436Z",
     "start_time": "2021-01-25T02:02:41.742469Z"
    },
    "id": "KChUHsG003Nf"
   },
   "outputs": [
    {
     "name": "stdout",
     "output_type": "stream",
     "text": [
      "[[1 2 3]\n",
      " [4 5 6]\n",
      " [7 8 9]]\n"
     ]
    },
    {
     "data": {
      "text/plain": [
       "array([[10, 10, 10],\n",
       "       [10, 10, 10],\n",
       "       [10, 10, 10]])"
      ]
     },
     "execution_count": 27,
     "metadata": {},
     "output_type": "execute_result"
    }
   ],
   "source": [
    "print(a2)\n",
    "np.full_like(a2,10)"
   ]
  },
  {
   "cell_type": "markdown",
   "metadata": {
    "id": "apoksGJNrn1z"
   },
   "source": [
    "### 생성한 값으로 배열 생성"
   ]
  },
  {
   "cell_type": "markdown",
   "metadata": {
    "id": "H3nmLct8cnV8"
   },
   "source": [
    "* `arange()`: 정수 범위로 배열 생성"
   ]
  },
  {
   "cell_type": "code",
   "execution_count": 29,
   "metadata": {
    "ExecuteTime": {
     "end_time": "2021-01-25T02:02:55.057561Z",
     "start_time": "2021-01-25T02:02:55.051578Z"
    },
    "id": "mANy4WY4cDKa"
   },
   "outputs": [
    {
     "data": {
      "text/plain": [
       "array([ 0,  1,  2,  3,  4,  5,  6,  7,  8,  9, 10, 11, 12, 13, 14, 15, 16,\n",
       "       17, 18, 19, 20, 21, 22, 23, 24, 25, 26, 27, 28, 29])"
      ]
     },
     "execution_count": 29,
     "metadata": {},
     "output_type": "execute_result"
    }
   ],
   "source": [
    "np.arange(0,30)"
   ]
  },
  {
   "cell_type": "markdown",
   "metadata": {
    "id": "s5kET1e6itlo"
   },
   "source": [
    "* `linspace()`: 범위 내에서 균등 간격의 배열 생성"
   ]
  },
  {
   "cell_type": "code",
   "execution_count": 31,
   "metadata": {
    "ExecuteTime": {
     "end_time": "2021-01-25T02:03:24.541291Z",
     "start_time": "2021-01-25T02:03:24.534309Z"
    },
    "id": "u4q9gI7Zcltz"
   },
   "outputs": [
    {
     "data": {
      "text/plain": [
       "array([0.  , 0.25, 0.5 , 0.75, 1.  ])"
      ]
     },
     "execution_count": 31,
     "metadata": {},
     "output_type": "execute_result"
    }
   ],
   "source": [
    "np.linspace(0,1,5)"
   ]
  },
  {
   "cell_type": "markdown",
   "metadata": {
    "id": "Eq26d7T3nnAH"
   },
   "source": [
    "* `logspace()`: 범위 내에서 균등간격으로 로그 스케일로 배열 생성"
   ]
  },
  {
   "cell_type": "code",
   "execution_count": 32,
   "metadata": {
    "ExecuteTime": {
     "end_time": "2021-01-25T02:04:09.178433Z",
     "start_time": "2021-01-25T02:04:09.160802Z"
    },
    "id": "-O29WBVEnyXX"
   },
   "outputs": [
    {
     "data": {
      "text/plain": [
       "array([ 1.        ,  1.77827941,  3.16227766,  5.62341325, 10.        ])"
      ]
     },
     "execution_count": 32,
     "metadata": {},
     "output_type": "execute_result"
    }
   ],
   "source": [
    "np.logspace(0,1,5)"
   ]
  },
  {
   "cell_type": "markdown",
   "metadata": {
    "id": "6_88s4_Jr7fO"
   },
   "source": [
    "### 랜덤값으로 배열 생성\n"
   ]
  },
  {
   "cell_type": "markdown",
   "metadata": {
    "id": "CoK1cVUkjNMg"
   },
   "source": [
    "* `random.random()`: 랜덤한 수의 배열 생성"
   ]
  },
  {
   "cell_type": "code",
   "execution_count": 34,
   "metadata": {
    "ExecuteTime": {
     "end_time": "2021-01-25T02:05:03.815960Z",
     "start_time": "2021-01-25T02:05:03.807010Z"
    },
    "id": "qJwccKEnjMze"
   },
   "outputs": [
    {
     "data": {
      "text/plain": [
       "array([[0.31226756, 0.47121339, 0.13498123],\n",
       "       [0.86615326, 0.93982117, 0.03696954],\n",
       "       [0.93136538, 0.73083534, 0.16224117]])"
      ]
     },
     "execution_count": 34,
     "metadata": {},
     "output_type": "execute_result"
    }
   ],
   "source": [
    "np.random.random((3,3))"
   ]
  },
  {
   "cell_type": "markdown",
   "metadata": {
    "id": "BYsAVwA1kvDI"
   },
   "source": [
    "* `random.randint()`: 일정 구간의 랜덤 정수의 배열 생성"
   ]
  },
  {
   "cell_type": "code",
   "execution_count": 35,
   "metadata": {
    "ExecuteTime": {
     "end_time": "2021-01-25T02:05:10.547348Z",
     "start_time": "2021-01-25T02:05:10.533357Z"
    },
    "id": "oR-UszZ_jqfQ"
   },
   "outputs": [
    {
     "data": {
      "text/plain": [
       "array([0, 0])"
      ]
     },
     "execution_count": 35,
     "metadata": {},
     "output_type": "execute_result"
    }
   ],
   "source": [
    "np.random.randint((3,3))"
   ]
  },
  {
   "cell_type": "code",
   "execution_count": 41,
   "metadata": {
    "ExecuteTime": {
     "end_time": "2021-01-25T02:05:58.205273Z",
     "start_time": "2021-01-25T02:05:58.187323Z"
    }
   },
   "outputs": [
    {
     "data": {
      "text/plain": [
       "2"
      ]
     },
     "execution_count": 41,
     "metadata": {},
     "output_type": "execute_result"
    }
   ],
   "source": [
    "import random as rand\n",
    "rand.randint(1,5)"
   ]
  },
  {
   "cell_type": "markdown",
   "metadata": {
    "id": "2r557WHsjrL3"
   },
   "source": [
    "* `random.normal()`: 정규분포(normal distribution)를 고려한 랜덤한 수의 배열 생성\n",
    "* 평균=0, 표준편차=1, 3 x 3 배열"
   ]
  },
  {
   "cell_type": "code",
   "execution_count": 42,
   "metadata": {
    "ExecuteTime": {
     "end_time": "2021-01-25T02:06:09.372753Z",
     "start_time": "2021-01-25T02:06:09.355824Z"
    },
    "id": "Oan3bSpHi2Wq"
   },
   "outputs": [
    {
     "data": {
      "text/plain": [
       "array([[ 1.30050526, -0.6634414 , -0.14369325],\n",
       "       [ 0.94656478, -0.83063927, -1.01097115],\n",
       "       [-1.30886774,  0.07442753,  0.75137266]])"
      ]
     },
     "execution_count": 42,
     "metadata": {},
     "output_type": "execute_result"
    }
   ],
   "source": [
    "np.random.normal(0,1,(3,3))"
   ]
  },
  {
   "cell_type": "markdown",
   "metadata": {
    "id": "fPO-D1rHsrFw"
   },
   "source": [
    "* `random.rand()`: 균등분포(uniform distribution)를 고려한 랜덤한 수의 배열 생성"
   ]
  },
  {
   "cell_type": "code",
   "execution_count": 44,
   "metadata": {
    "ExecuteTime": {
     "end_time": "2021-01-25T02:06:19.653462Z",
     "start_time": "2021-01-25T02:06:19.637693Z"
    },
    "id": "DxiyEjnXnDUT"
   },
   "outputs": [
    {
     "data": {
      "text/plain": [
       "array([[0.66041797, 0.20017501, 0.65042644],\n",
       "       [0.07037351, 0.12877238, 0.37069966],\n",
       "       [0.26981752, 0.94075473, 0.184477  ]])"
      ]
     },
     "execution_count": 44,
     "metadata": {},
     "output_type": "execute_result"
    }
   ],
   "source": [
    "np.random.rand(3,3)"
   ]
  },
  {
   "cell_type": "markdown",
   "metadata": {
    "id": "IegH2dsPLQgd"
   },
   "source": [
    "* `random.randn()`: 표준 정규 분포(standard normal distribution)를 고려한 랜덤한 수의 배열 생성"
   ]
  },
  {
   "cell_type": "code",
   "execution_count": 45,
   "metadata": {
    "ExecuteTime": {
     "end_time": "2021-01-25T02:06:32.109381Z",
     "start_time": "2021-01-25T02:06:32.098862Z"
    },
    "id": "V61VHa-JLIma"
   },
   "outputs": [
    {
     "data": {
      "text/plain": [
       "array([[-1.27009648, -0.89226607, -0.88575223],\n",
       "       [-1.0487632 ,  0.31860643,  0.14495695],\n",
       "       [-0.62677042, -0.63582082, -2.01788963]])"
      ]
     },
     "execution_count": 45,
     "metadata": {},
     "output_type": "execute_result"
    }
   ],
   "source": [
    "np.random.randn(3,3)"
   ]
  },
  {
   "cell_type": "markdown",
   "metadata": {
    "id": "5ts0cYLQL_pT"
   },
   "source": [
    "### 표준 데이터 타입"
   ]
  },
  {
   "cell_type": "code",
   "execution_count": 46,
   "metadata": {
    "ExecuteTime": {
     "end_time": "2021-01-25T02:08:07.655327Z",
     "start_time": "2021-01-25T02:08:07.637346Z"
    },
    "id": "rxqTqAFKL73y"
   },
   "outputs": [
    {
     "data": {
      "text/plain": [
       "array([0, 0, 0, 0, 0, 0, 0, 0, 0, 0, 0, 0, 0, 0, 0, 0, 0, 0, 0, 0])"
      ]
     },
     "execution_count": 46,
     "metadata": {},
     "output_type": "execute_result"
    }
   ],
   "source": [
    "np.zeros(20,dtype = int)"
   ]
  },
  {
   "cell_type": "code",
   "execution_count": 47,
   "metadata": {
    "ExecuteTime": {
     "end_time": "2021-01-25T02:08:19.452972Z",
     "start_time": "2021-01-25T02:08:19.440007Z"
    },
    "id": "o9TuSl6HIsXr"
   },
   "outputs": [
    {
     "data": {
      "text/plain": [
       "array([ True,  True,  True,  True,  True,  True,  True,  True,  True,\n",
       "        True,  True,  True,  True,  True,  True,  True,  True,  True,\n",
       "        True,  True])"
      ]
     },
     "execution_count": 47,
     "metadata": {},
     "output_type": "execute_result"
    }
   ],
   "source": [
    "np.ones(20,dtype = bool)"
   ]
  },
  {
   "cell_type": "code",
   "execution_count": 49,
   "metadata": {
    "ExecuteTime": {
     "end_time": "2021-01-25T02:08:36.476256Z",
     "start_time": "2021-01-25T02:08:36.463319Z"
    },
    "id": "w-TciNfzEhY0"
   },
   "outputs": [
    {
     "data": {
      "text/plain": [
       "array([[3., 3., 3.],\n",
       "       [3., 3., 3.],\n",
       "       [3., 3., 3.]])"
      ]
     },
     "execution_count": 49,
     "metadata": {},
     "output_type": "execute_result"
    }
   ],
   "source": [
    "np.full((3,3),3,dtype = float)"
   ]
  },
  {
   "cell_type": "markdown",
   "metadata": {
    "id": "1qFumu-p-0mQ"
   },
   "source": [
    "### 날짜/시간 배열 생성\n"
   ]
  },
  {
   "cell_type": "code",
   "execution_count": 50,
   "metadata": {
    "ExecuteTime": {
     "end_time": "2021-01-25T02:10:26.330187Z",
     "start_time": "2021-01-25T02:10:26.320210Z"
    },
    "id": "D8ozvTUf-6Rr"
   },
   "outputs": [
    {
     "data": {
      "text/plain": [
       "array('2020-01-01', dtype='datetime64[D]')"
      ]
     },
     "execution_count": 50,
     "metadata": {},
     "output_type": "execute_result"
    }
   ],
   "source": [
    "date = np.array('2020-01-01',dtype = np.datetime64)\n",
    "date "
   ]
  },
  {
   "cell_type": "code",
   "execution_count": 52,
   "metadata": {
    "ExecuteTime": {
     "end_time": "2021-01-25T02:11:04.368902Z",
     "start_time": "2021-01-25T02:11:04.357904Z"
    },
    "id": "XIjLUkn6_K3J"
   },
   "outputs": [
    {
     "data": {
      "text/plain": [
       "array(['2020-01-01', '2020-01-02', '2020-01-03', '2020-01-04',\n",
       "       '2020-01-05', '2020-01-06', '2020-01-07', '2020-01-08',\n",
       "       '2020-01-09', '2020-01-10', '2020-01-11', '2020-01-12'],\n",
       "      dtype='datetime64[D]')"
      ]
     },
     "execution_count": 52,
     "metadata": {},
     "output_type": "execute_result"
    }
   ],
   "source": [
    "date + np.arange(12)"
   ]
  },
  {
   "cell_type": "code",
   "execution_count": 54,
   "metadata": {
    "ExecuteTime": {
     "end_time": "2021-01-25T02:11:23.604257Z",
     "start_time": "2021-01-25T02:11:23.588300Z"
    },
    "id": "EO7yE5VR_Wlh"
   },
   "outputs": [
    {
     "data": {
      "text/plain": [
       "numpy.datetime64('2020-06-01T12:00')"
      ]
     },
     "execution_count": 54,
     "metadata": {},
     "output_type": "execute_result"
    }
   ],
   "source": [
    "datetime = np.datetime64('2020-06-01 12:00')\n",
    "datetime"
   ]
  },
  {
   "cell_type": "code",
   "execution_count": 55,
   "metadata": {
    "ExecuteTime": {
     "end_time": "2021-01-25T02:11:55.132671Z",
     "start_time": "2021-01-25T02:11:55.114691Z"
    },
    "id": "3dnOlf9i_kzX"
   },
   "outputs": [
    {
     "data": {
      "text/plain": [
       "numpy.datetime64('2020-06-01T12:00:12.340000000')"
      ]
     },
     "execution_count": 55,
     "metadata": {},
     "output_type": "execute_result"
    }
   ],
   "source": [
    "datetime = np.datetime64('2020-06-01 12:00:12.34','ns')\n",
    "datetime"
   ]
  },
  {
   "cell_type": "markdown",
   "metadata": {
    "id": "5AREIamhGxAr"
   },
   "source": [
    "\n",
    "\n",
    "---\n",
    "\n"
   ]
  },
  {
   "cell_type": "markdown",
   "metadata": {
    "id": "d88tkTqbBE5V"
   },
   "source": [
    "## 배열 조회"
   ]
  },
  {
   "cell_type": "markdown",
   "metadata": {
    "id": "vRqwfbjtFnPn"
   },
   "source": [
    "### 배열 속성 정보"
   ]
  },
  {
   "cell_type": "code",
   "execution_count": 60,
   "metadata": {
    "ExecuteTime": {
     "end_time": "2021-01-25T02:14:46.057416Z",
     "start_time": "2021-01-25T02:14:46.039432Z"
    },
    "id": "R5Rlcll7GXrM"
   },
   "outputs": [],
   "source": [
    "def array_info(array):\n",
    "    print(array)\n",
    "    print(\"ndim:\",array.ndim)\n",
    "    print('shape:',array.shape)\n",
    "    print(\"dtype:\",array.dtype)\n",
    "    print('size:',array.size)\n",
    "    print('itemsize:',array.itemsize)\n",
    "    print('nbytes:',array.nbytes)\n",
    "    print('strides:',array.strides)"
   ]
  },
  {
   "cell_type": "code",
   "execution_count": 61,
   "metadata": {
    "ExecuteTime": {
     "end_time": "2021-01-25T02:14:46.184734Z",
     "start_time": "2021-01-25T02:14:46.179747Z"
    }
   },
   "outputs": [
    {
     "name": "stdout",
     "output_type": "stream",
     "text": [
      "[1 2 3 4 5]\n",
      "ndim: 1\n",
      "shape: (5,)\n",
      "dtype: int32\n",
      "size: 5\n",
      "itemsize: 4\n",
      "nbytes: 20\n",
      "strides: (4,)\n"
     ]
    }
   ],
   "source": [
    "array_info(a1)"
   ]
  },
  {
   "cell_type": "code",
   "execution_count": 62,
   "metadata": {
    "ExecuteTime": {
     "end_time": "2021-01-25T02:15:26.826235Z",
     "start_time": "2021-01-25T02:15:26.818256Z"
    },
    "id": "Na59LwA7KXZV"
   },
   "outputs": [
    {
     "name": "stdout",
     "output_type": "stream",
     "text": [
      "[[1 2 3]\n",
      " [4 5 6]\n",
      " [7 8 9]]\n",
      "ndim: 2\n",
      "shape: (3, 3)\n",
      "dtype: int32\n",
      "size: 9\n",
      "itemsize: 4\n",
      "nbytes: 36\n",
      "strides: (12, 4)\n"
     ]
    }
   ],
   "source": [
    "array_info(a2)"
   ]
  },
  {
   "cell_type": "markdown",
   "metadata": {
    "id": "LV1WfdBWFqDu"
   },
   "source": [
    "### 인덱싱(Indexing)"
   ]
  },
  {
   "cell_type": "code",
   "execution_count": 63,
   "metadata": {
    "ExecuteTime": {
     "end_time": "2021-01-25T02:17:23.910535Z",
     "start_time": "2021-01-25T02:17:23.907543Z"
    },
    "id": "Nyb7eDmGFr5m"
   },
   "outputs": [
    {
     "name": "stdout",
     "output_type": "stream",
     "text": [
      "[1 2 3 4 5]\n",
      "1\n"
     ]
    }
   ],
   "source": [
    "print(a1)\n",
    "print(a1[0])"
   ]
  },
  {
   "cell_type": "code",
   "execution_count": 66,
   "metadata": {
    "ExecuteTime": {
     "end_time": "2021-01-25T02:17:51.828364Z",
     "start_time": "2021-01-25T02:17:51.820419Z"
    },
    "id": "uHMNcQW3Kn-h"
   },
   "outputs": [
    {
     "name": "stdout",
     "output_type": "stream",
     "text": [
      "[[1 2 3]\n",
      " [4 5 6]\n",
      " [7 8 9]]\n",
      "1\n"
     ]
    }
   ],
   "source": [
    "print(a2)\n",
    "print(a2[0,0])"
   ]
  },
  {
   "cell_type": "markdown",
   "metadata": {
    "id": "uSeXu2y_O4cu"
   },
   "source": [
    "### 슬라이싱(Slicing)"
   ]
  },
  {
   "cell_type": "markdown",
   "metadata": {
    "id": "1hikO_6ZPp5m"
   },
   "source": [
    "* 슬라이싱 구문: `a[start:stop:step]`\n",
    "* 기본값: start=0, stop=ndim, step=1"
   ]
  },
  {
   "cell_type": "code",
   "execution_count": 67,
   "metadata": {
    "ExecuteTime": {
     "end_time": "2021-01-25T02:20:34.765247Z",
     "start_time": "2021-01-25T02:20:34.748292Z"
    },
    "id": "PYZOOCoVO7BF"
   },
   "outputs": [
    {
     "name": "stdout",
     "output_type": "stream",
     "text": [
      "[1 2 3 4 5]\n",
      "[1 2]\n",
      "[1 2 3 4 5]\n",
      "[1 3 5]\n"
     ]
    }
   ],
   "source": [
    "print(a1)\n",
    "print(a1[0:2])\n",
    "print(a1[0:])\n",
    "print(a1[::2])"
   ]
  },
  {
   "cell_type": "markdown",
   "metadata": {
    "id": "LD52bXAsBgbH"
   },
   "source": [
    "### 불리언 인덱싱(Boolean Indexing)\n",
    "\n",
    "* 배열 각 요소의 선택 여부를 불리언(True or False)로 지정\n",
    "* True 값인 인덱스의 값만 조회"
   ]
  },
  {
   "cell_type": "code",
   "execution_count": 69,
   "metadata": {
    "ExecuteTime": {
     "end_time": "2021-01-25T02:23:37.511211Z",
     "start_time": "2021-01-25T02:23:37.505717Z"
    },
    "id": "pOvNsH2oBgz-"
   },
   "outputs": [
    {
     "name": "stdout",
     "output_type": "stream",
     "text": [
      "[1 2 3 4 5]\n",
      "[False, True, True, False, True]\n",
      "[2 3 5]\n"
     ]
    }
   ],
   "source": [
    "print(a1)\n",
    "b1 = [False,True,True,False,True]\n",
    "print(b1)\n",
    "print(a1[b1])"
   ]
  },
  {
   "cell_type": "code",
   "execution_count": 72,
   "metadata": {
    "ExecuteTime": {
     "end_time": "2021-01-25T02:24:47.529250Z",
     "start_time": "2021-01-25T02:24:47.521272Z"
    },
    "id": "EFfquM2kWHAU"
   },
   "outputs": [
    {
     "name": "stdout",
     "output_type": "stream",
     "text": [
      "[[1 2 3]\n",
      " [4 5 6]\n",
      " [7 8 9]]\n",
      "[[ True False  True]\n",
      " [ True False  True]\n",
      " [ True  True  True]]\n",
      "[1 3 4 6 7 8 9]\n"
     ]
    }
   ],
   "source": [
    "print(a2)\n",
    "bi = np.random.randint(0,2,(3,3),dtype=bool)\n",
    "print(bi)\n",
    "print(a2[bi])"
   ]
  },
  {
   "cell_type": "markdown",
   "metadata": {
    "id": "R5hes-hdBujH"
   },
   "source": [
    "### 팬시 인덱싱(Fancy Indedxing)"
   ]
  },
  {
   "cell_type": "code",
   "execution_count": 75,
   "metadata": {
    "ExecuteTime": {
     "end_time": "2021-01-25T02:26:50.182944Z",
     "start_time": "2021-01-25T02:26:50.167986Z"
    },
    "id": "z-Luw5fzBx30"
   },
   "outputs": [
    {
     "name": "stdout",
     "output_type": "stream",
     "text": [
      "[1 2 3 4 5]\n",
      "1 3\n",
      "[1 3]\n",
      "[[1 2]\n",
      " [3 1]]\n"
     ]
    }
   ],
   "source": [
    "print(a1)\n",
    "print(a1[0],a1[2])\n",
    "ind = [0,2]\n",
    "print(a1[ind])\n",
    "ind  = np.array([[0,1],[2,0]])\n",
    "print(a1[ind])"
   ]
  },
  {
   "cell_type": "code",
   "execution_count": 78,
   "metadata": {
    "ExecuteTime": {
     "end_time": "2021-01-25T02:28:23.539580Z",
     "start_time": "2021-01-25T02:28:23.533596Z"
    },
    "id": "p_Dd0oiJahgj"
   },
   "outputs": [
    {
     "name": "stdout",
     "output_type": "stream",
     "text": [
      "[[1 2 3]\n",
      " [4 5 6]\n",
      " [7 8 9]]\n",
      "[2 9]\n",
      "[[1 2 3]\n",
      " [7 8 9]]\n",
      "[[2 3]\n",
      " [5 6]\n",
      " [8 9]]\n"
     ]
    }
   ],
   "source": [
    "print(a2)\n",
    "row = np.array([0,2])\n",
    "col = np.array([1,2])\n",
    "print(a2[row,col])\n",
    "print(a2[row,:])\n",
    "print(a2[:,col])\n"
   ]
  },
  {
   "cell_type": "markdown",
   "metadata": {
    "id": "F71_PQF1GvTs"
   },
   "source": [
    "\n",
    "\n",
    "---\n",
    "\n"
   ]
  },
  {
   "cell_type": "markdown",
   "metadata": {
    "id": "zDI5yQ58O-IX"
   },
   "source": [
    "## 배열 값 삽입/수정/삭제/복사"
   ]
  },
  {
   "cell_type": "markdown",
   "metadata": {
    "id": "zajd1qpVOQYy"
   },
   "source": [
    "### 배열 값 삽입\n",
    "\n",
    "* `insert()`: 배열의 특정 위치에 값 삽입\n",
    "* axis를 지정하지 않으면 1차원 배열로 변환\n",
    "* 추가할 방향을 axis로 지정\n",
    "* 원본 배열 변경없이 새로운 배열 반환"
   ]
  },
  {
   "cell_type": "code",
   "execution_count": 85,
   "metadata": {
    "ExecuteTime": {
     "end_time": "2021-01-25T03:44:08.945953Z",
     "start_time": "2021-01-25T03:44:08.940966Z"
    },
    "id": "sedRT54rP395"
   },
   "outputs": [
    {
     "name": "stdout",
     "output_type": "stream",
     "text": [
      "[1 2 3 4 5]\n",
      "[10  1  2  3  4  5]\n",
      "[ 1  2 20  3  4  5]\n"
     ]
    }
   ],
   "source": [
    "b1 = np.insert(a1,0,10)\n",
    "c1 = np.insert(a1,2,20)\n",
    "print(a1)\n",
    "print(b1)\n",
    "print(c1)"
   ]
  },
  {
   "cell_type": "code",
   "execution_count": 89,
   "metadata": {
    "ExecuteTime": {
     "end_time": "2021-01-25T03:44:56.055863Z",
     "start_time": "2021-01-25T03:44:56.050848Z"
    },
    "id": "zNmu1E4iQ6h-"
   },
   "outputs": [
    {
     "name": "stdout",
     "output_type": "stream",
     "text": [
      "[[1 2 3]\n",
      " [4 5 6]\n",
      " [7 8 9]]\n",
      "\n",
      "[[ 1  2  3]\n",
      " [10 10 10]\n",
      " [ 4  5  6]\n",
      " [ 7  8  9]]\n",
      "\n",
      "[[ 1 10  2  3]\n",
      " [ 4 10  5  6]\n",
      " [ 7 10  8  9]]\n"
     ]
    }
   ],
   "source": [
    "print(a2)\n",
    "print()\n",
    "b2 = np.insert(a2,1,10,axis = 0)\n",
    "c2 = np.insert(a2,1,10,axis = 1)\n",
    "print(b2)\n",
    "print()\n",
    "print(c2)"
   ]
  },
  {
   "cell_type": "markdown",
   "metadata": {
    "id": "OlEzG4ffNjyL"
   },
   "source": [
    "### 배열 값 수정\n",
    "\n",
    "* 배열의 인덱싱으로 접근하여 값 수정"
   ]
  },
  {
   "cell_type": "code",
   "execution_count": null,
   "metadata": {
    "id": "ec43i1KWNjeN"
   },
   "outputs": [],
   "source": []
  },
  {
   "cell_type": "code",
   "execution_count": null,
   "metadata": {
    "id": "IApNNx3NOMQh"
   },
   "outputs": [],
   "source": []
  },
  {
   "cell_type": "markdown",
   "metadata": {
    "id": "emV7DgrITPcn"
   },
   "source": [
    "### 배열 값 삭제\n",
    "\n",
    "* `delete()`: 배열의 특정 위치에 값 삭제\n",
    "* axis를 지정하지 않으면 1차원 배열로 변환\n",
    "* 삭제할 방향을 axis로 지정\n",
    "* 원본 배열 변경없이 새로운 배열 반환"
   ]
  },
  {
   "cell_type": "code",
   "execution_count": 90,
   "metadata": {
    "ExecuteTime": {
     "end_time": "2021-01-25T03:48:41.702293Z",
     "start_time": "2021-01-25T03:48:41.689327Z"
    },
    "id": "I3k_Yx8lTRJ2"
   },
   "outputs": [
    {
     "name": "stdout",
     "output_type": "stream",
     "text": [
      "[1 2 3 4 5]\n",
      "[1 2 3 4 5]\n",
      "[9 2 3 4 5]\n"
     ]
    }
   ],
   "source": [
    "print(a1)\n",
    "a1[0] = 1\n",
    "a1[1] = 2\n",
    "a1[2] = 3\n",
    "print(a1)\n",
    "a1[:1] = 9\n",
    "print(a1)"
   ]
  },
  {
   "cell_type": "code",
   "execution_count": 91,
   "metadata": {
    "ExecuteTime": {
     "end_time": "2021-01-25T03:49:30.752407Z",
     "start_time": "2021-01-25T03:49:30.743433Z"
    },
    "id": "tRTwMIfJTq_y"
   },
   "outputs": [
    {
     "name": "stdout",
     "output_type": "stream",
     "text": [
      "[[1 2 3]\n",
      " [4 5 6]\n",
      " [7 8 9]]\n",
      "[[1 1 1]\n",
      " [4 2 6]\n",
      " [7 8 3]]\n"
     ]
    }
   ],
   "source": [
    "print(a2)\n",
    "a2[0,0] = 1\n",
    "a2[1,1] = 2\n",
    "a2[2,2] = 3\n",
    "a2[0] = 1\n",
    "print(a2)"
   ]
  },
  {
   "cell_type": "markdown",
   "metadata": {
    "id": "UydkYxV8Z6Fx"
   },
   "source": [
    "### 배열 복사\n",
    "\n",
    "* 리스트 자료형과 달리 배열의 슬라이스는 복사본이 아님"
   ]
  },
  {
   "cell_type": "code",
   "execution_count": 96,
   "metadata": {
    "ExecuteTime": {
     "end_time": "2021-01-25T03:54:40.153335Z",
     "start_time": "2021-01-25T03:54:40.146352Z"
    },
    "id": "n2_0L8KWZ7wH"
   },
   "outputs": [
    {
     "name": "stdout",
     "output_type": "stream",
     "text": [
      "[[1 0 1]\n",
      " [4 0 6]\n",
      " [7 8 3]] \n",
      "\n",
      "[[1 0]\n",
      " [4 0]] \n",
      "\n",
      "[[1 0]\n",
      " [4 0]] \n",
      "\n",
      "[[1 0]\n",
      " [4 0]] \n",
      "\n",
      "[[1 0 1]\n",
      " [4 0 6]\n",
      " [7 8 3]]\n"
     ]
    }
   ],
   "source": [
    "print(a2,'\\n')\n",
    "\n",
    "print(a2[:2,:2],'\\n')\n",
    "\n",
    "a2_sub = a2[:2,:2]\n",
    "print(a2_sub,'\\n')\n",
    "\n",
    "a2_sub[:,1] = 0\n",
    "print(a2_sub,'\\n')\n",
    "\n",
    "print(a2)"
   ]
  },
  {
   "cell_type": "markdown",
   "metadata": {
    "id": "UrQqOC1Eat5l"
   },
   "source": [
    "\n",
    "* `copy()`: 배열이나 하위 배열 내의 값을 명시적으로 복사"
   ]
  },
  {
   "cell_type": "code",
   "execution_count": 99,
   "metadata": {
    "ExecuteTime": {
     "end_time": "2021-01-25T03:55:30.230500Z",
     "start_time": "2021-01-25T03:55:30.218527Z"
    },
    "id": "hLBZ7Qn6bAKO"
   },
   "outputs": [
    {
     "name": "stdout",
     "output_type": "stream",
     "text": [
      "[[1 0 1]\n",
      " [4 0 6]\n",
      " [7 8 3]] \n",
      "\n",
      "[[1 0]\n",
      " [4 0]] \n",
      "\n",
      "[[1 0 1]\n",
      " [4 0 6]\n",
      " [7 8 3]] \n",
      "\n"
     ]
    }
   ],
   "source": [
    "print(a2,'\\n')\n",
    "a2_sub_copy = a2[:2,:2].copy()\n",
    "print(a2_sub_copy,'\\n')\n",
    "a2_sub_copy[:,1] = 1\n",
    "print(a2,'\\n')"
   ]
  },
  {
   "cell_type": "markdown",
   "metadata": {
    "id": "4HTc9FXOGtA7"
   },
   "source": [
    "\n",
    "\n",
    "---\n",
    "\n"
   ]
  },
  {
   "cell_type": "markdown",
   "metadata": {
    "id": "XVZY082__yV6"
   },
   "source": [
    "## 배열 변환"
   ]
  },
  {
   "cell_type": "markdown",
   "metadata": {
    "id": "Ec09aPeBO58M"
   },
   "source": [
    "### 배열 전치 및 축 변경"
   ]
  },
  {
   "cell_type": "code",
   "execution_count": 101,
   "metadata": {
    "ExecuteTime": {
     "end_time": "2021-01-25T03:56:01.762907Z",
     "start_time": "2021-01-25T03:56:01.751902Z"
    },
    "id": "anYByBpoWZmj"
   },
   "outputs": [
    {
     "name": "stdout",
     "output_type": "stream",
     "text": [
      "[[1 0 1]\n",
      " [4 0 6]\n",
      " [7 8 3]] \n",
      "\n",
      "[[1 4 7]\n",
      " [0 0 8]\n",
      " [1 6 3]]\n"
     ]
    }
   ],
   "source": [
    "print(a2,'\\n')\n",
    "print(a2.T)"
   ]
  },
  {
   "cell_type": "code",
   "execution_count": 103,
   "metadata": {
    "ExecuteTime": {
     "end_time": "2021-01-25T03:57:27.967552Z",
     "start_time": "2021-01-25T03:57:27.959574Z"
    },
    "id": "wg4XC6kiRnZo"
   },
   "outputs": [
    {
     "name": "stdout",
     "output_type": "stream",
     "text": [
      "[[1 0 1]\n",
      " [4 0 6]\n",
      " [7 8 3]]\n",
      "[[1 4 7]\n",
      " [0 0 8]\n",
      " [1 6 3]]\n"
     ]
    }
   ],
   "source": [
    "print(a2)\n",
    "print(a2.swapaxes(1,0))"
   ]
  },
  {
   "cell_type": "markdown",
   "metadata": {
    "id": "M7xN8WdOdb_S"
   },
   "source": [
    "### 배열 재구조화\n"
   ]
  },
  {
   "cell_type": "markdown",
   "metadata": {
    "id": "JwZJMpXGfY0V"
   },
   "source": [
    "* `reshape()`: 배열의 형상을 변경"
   ]
  },
  {
   "cell_type": "code",
   "execution_count": 104,
   "metadata": {
    "ExecuteTime": {
     "end_time": "2021-01-25T03:58:49.266208Z",
     "start_time": "2021-01-25T03:58:49.250252Z"
    },
    "id": "SlGQ17VQdd8i"
   },
   "outputs": [
    {
     "name": "stdout",
     "output_type": "stream",
     "text": [
      "[1 2 3 4 5 6 7 8 9]\n",
      "[[1 2 3]\n",
      " [4 5 6]\n",
      " [7 8 9]]\n"
     ]
    }
   ],
   "source": [
    "n1= np.arange(1,10)\n",
    "print(n1)\n",
    "print(n1.reshape(3,3))"
   ]
  },
  {
   "cell_type": "markdown",
   "metadata": {
    "id": "y_U1W-fQfuQY"
   },
   "source": [
    "* `newaxis()`: 새로운 축 추가"
   ]
  },
  {
   "cell_type": "code",
   "execution_count": 106,
   "metadata": {
    "ExecuteTime": {
     "end_time": "2021-01-25T03:59:30.017488Z",
     "start_time": "2021-01-25T03:59:30.010508Z"
    },
    "id": "COif_weCfkGo"
   },
   "outputs": [
    {
     "name": "stdout",
     "output_type": "stream",
     "text": [
      "[1 2 3 4 5 6 7 8 9]\n",
      "[[1 2 3 4 5]]\n",
      "[[1]\n",
      " [2]\n",
      " [3]\n",
      " [4]\n",
      " [5]]\n"
     ]
    }
   ],
   "source": [
    "print(n1)\n",
    "print(n1[np.newaxis,:5])\n",
    "print(n1[:5,np.newaxis])"
   ]
  },
  {
   "cell_type": "markdown",
   "metadata": {
    "id": "FR82RSDggbcJ"
   },
   "source": [
    "### 배열 크기 변경"
   ]
  },
  {
   "cell_type": "markdown",
   "metadata": {
    "id": "D1LuDMVFl4tc"
   },
   "source": [
    "* 배열 모양만 변경"
   ]
  },
  {
   "cell_type": "code",
   "execution_count": 107,
   "metadata": {
    "ExecuteTime": {
     "end_time": "2021-01-25T04:00:30.833842Z",
     "start_time": "2021-01-25T04:00:30.826846Z"
    },
    "id": "7B6pHlfxgdSJ"
   },
   "outputs": [
    {
     "name": "stdout",
     "output_type": "stream",
     "text": [
      "[[5 2 1 6 3]\n",
      " [4 5 3 1 1]]\n",
      "[[5 2]\n",
      " [1 6]\n",
      " [3 4]\n",
      " [5 3]\n",
      " [1 1]]\n"
     ]
    }
   ],
   "source": [
    "n2=  np.random.randint(0,10,(2,5))\n",
    "print(n2)\n",
    "n2.resize((5,2))\n",
    "print(n2)"
   ]
  },
  {
   "cell_type": "markdown",
   "metadata": {
    "id": "s0adm-h9l6sv"
   },
   "source": [
    "* 배열 크기 증가\n",
    "* 남은 공간은 0으로 채워짐"
   ]
  },
  {
   "cell_type": "code",
   "execution_count": 108,
   "metadata": {
    "ExecuteTime": {
     "end_time": "2021-01-25T04:00:47.303948Z",
     "start_time": "2021-01-25T04:00:47.288987Z"
    },
    "id": "IrX0UcjrlWRV"
   },
   "outputs": [
    {
     "name": "stdout",
     "output_type": "stream",
     "text": [
      "[[5 2 1 6 3]\n",
      " [4 5 3 1 1]\n",
      " [0 0 0 0 0]\n",
      " [0 0 0 0 0]\n",
      " [0 0 0 0 0]]\n"
     ]
    }
   ],
   "source": [
    "n2.resize((5,5))\n",
    "print(n2)"
   ]
  },
  {
   "cell_type": "markdown",
   "metadata": {
    "id": "78hPDEzfl9JB"
   },
   "source": [
    "* 배열 크기 감소\n",
    "* 포함되지 않은 값은 삭제됨"
   ]
  },
  {
   "cell_type": "code",
   "execution_count": 110,
   "metadata": {
    "ExecuteTime": {
     "end_time": "2021-01-25T04:01:15.020999Z",
     "start_time": "2021-01-25T04:01:15.009656Z"
    },
    "id": "fJWrwhc6lmjW"
   },
   "outputs": [
    {
     "name": "stdout",
     "output_type": "stream",
     "text": [
      "[[5 2 1]\n",
      " [6 3 4]\n",
      " [5 3 1]]\n"
     ]
    }
   ],
   "source": [
    "n2.resize((3,3))\n",
    "print(n2)"
   ]
  },
  {
   "cell_type": "markdown",
   "metadata": {
    "id": "r9z2gD_pHyx9"
   },
   "source": [
    "### 배열 추가\n",
    "\n",
    "* `append()`: 배열의 끝에 값 추가"
   ]
  },
  {
   "cell_type": "code",
   "execution_count": 111,
   "metadata": {
    "ExecuteTime": {
     "end_time": "2021-01-25T04:01:51.712453Z",
     "start_time": "2021-01-25T04:01:51.702478Z"
    },
    "id": "fH4lpQKNH5s1"
   },
   "outputs": [
    {
     "name": "stdout",
     "output_type": "stream",
     "text": [
      "[[1 2 3]\n",
      " [4 5 6]\n",
      " [7 8 9]]\n",
      "[[10 11 12]\n",
      " [13 14 15]\n",
      " [16 17 18]]\n"
     ]
    }
   ],
   "source": [
    "a2 = np.arange(1,10).reshape(3,3)\n",
    "print(a2)\n",
    "b2 = np.arange(10,19).reshape(3,3)\n",
    "print(b2)"
   ]
  },
  {
   "cell_type": "markdown",
   "metadata": {
    "id": "n8SMl5VVIquk"
   },
   "source": [
    "* axis 지정이 없으면 1차원 배열 형태로 변형되어 결합"
   ]
  },
  {
   "cell_type": "code",
   "execution_count": 112,
   "metadata": {
    "ExecuteTime": {
     "end_time": "2021-01-25T04:01:57.341076Z",
     "start_time": "2021-01-25T04:01:57.318106Z"
    },
    "id": "LRltk3yFIVsV"
   },
   "outputs": [
    {
     "data": {
      "text/plain": [
       "array([ 1,  2,  3,  4,  5,  6,  7,  8,  9, 10, 11, 12, 13, 14, 15, 16, 17,\n",
       "       18])"
      ]
     },
     "execution_count": 112,
     "metadata": {},
     "output_type": "execute_result"
    }
   ],
   "source": [
    "np.append(a2,b2)"
   ]
  },
  {
   "cell_type": "markdown",
   "metadata": {
    "id": "sVW2UFVZJfpR"
   },
   "source": [
    "* axis를 0으로 지정\n",
    "* shape[0]을 제외한 나머지 shape은 같아야 함"
   ]
  },
  {
   "cell_type": "code",
   "execution_count": 113,
   "metadata": {
    "ExecuteTime": {
     "end_time": "2021-01-25T04:02:59.224021Z",
     "start_time": "2021-01-25T04:02:59.213053Z"
    },
    "id": "nwJ4xLOeIbMg"
   },
   "outputs": [
    {
     "name": "stdout",
     "output_type": "stream",
     "text": [
      "[[ 1  2  3]\n",
      " [ 4  5  6]\n",
      " [ 7  8  9]\n",
      " [10 11 12]\n",
      " [13 14 15]\n",
      " [16 17 18]]\n"
     ]
    }
   ],
   "source": [
    "c2 = np.append(a2,b2,axis = 0)\n",
    "print(c2)"
   ]
  },
  {
   "cell_type": "markdown",
   "metadata": {
    "id": "4YXxzygaJmj-"
   },
   "source": [
    "* axis를 1로 지정\n",
    "* shape[1]을 제외한 나머지 shape은 같아야 함"
   ]
  },
  {
   "cell_type": "code",
   "execution_count": 114,
   "metadata": {
    "ExecuteTime": {
     "end_time": "2021-01-25T04:03:15.286456Z",
     "start_time": "2021-01-25T04:03:15.269496Z"
    },
    "id": "JYE4_5gAJmYe"
   },
   "outputs": [
    {
     "name": "stdout",
     "output_type": "stream",
     "text": [
      "[[ 1  2  3 10 11 12]\n",
      " [ 4  5  6 13 14 15]\n",
      " [ 7  8  9 16 17 18]]\n"
     ]
    }
   ],
   "source": [
    "c2 = np.append(a2,b2,axis = 1)\n",
    "print(c2)"
   ]
  },
  {
   "cell_type": "markdown",
   "metadata": {
    "id": "9sTza3b2hoe4"
   },
   "source": [
    "### 배열 연결"
   ]
  },
  {
   "cell_type": "markdown",
   "metadata": {
    "id": "TRun2NPYj8Ct"
   },
   "source": [
    "* `concatenate()`: 튜플이나 배열의 리스트를 인수로 사용해 배열 연결"
   ]
  },
  {
   "cell_type": "code",
   "execution_count": 116,
   "metadata": {
    "ExecuteTime": {
     "end_time": "2021-01-25T04:03:55.329404Z",
     "start_time": "2021-01-25T04:03:55.316438Z"
    },
    "id": "lmEqdPifhrB_"
   },
   "outputs": [
    {
     "data": {
      "text/plain": [
       "array([1, 3, 5, 2, 4, 6])"
      ]
     },
     "execution_count": 116,
     "metadata": {},
     "output_type": "execute_result"
    }
   ],
   "source": [
    "a1 = np.array([1,3,5])\n",
    "b1 = np.array([2,4,6])\n",
    "np.concatenate([a1,b1])"
   ]
  },
  {
   "cell_type": "code",
   "execution_count": 118,
   "metadata": {
    "ExecuteTime": {
     "end_time": "2021-01-25T04:04:27.582539Z",
     "start_time": "2021-01-25T04:04:27.565559Z"
    },
    "id": "IkoTNIt2k0tp"
   },
   "outputs": [
    {
     "data": {
      "text/plain": [
       "array([1, 3, 5, 2, 4, 6, 7, 8, 9])"
      ]
     },
     "execution_count": 118,
     "metadata": {},
     "output_type": "execute_result"
    }
   ],
   "source": [
    "c1 = np.array([7,8,9])\n",
    "np.concatenate([a1,b1,c1])"
   ]
  },
  {
   "cell_type": "code",
   "execution_count": 120,
   "metadata": {
    "ExecuteTime": {
     "end_time": "2021-01-25T04:05:02.376400Z",
     "start_time": "2021-01-25T04:05:02.372411Z"
    },
    "id": "vX0SCYX3lEs2"
   },
   "outputs": [
    {
     "data": {
      "text/plain": [
       "array([[1, 2, 3],\n",
       "       [4, 5, 6],\n",
       "       [1, 2, 3],\n",
       "       [4, 5, 6]])"
      ]
     },
     "execution_count": 120,
     "metadata": {},
     "output_type": "execute_result"
    }
   ],
   "source": [
    "a2 = np.array([[1,2,3],[4,5,6]])\n",
    "np.concatenate([a2,a2])"
   ]
  },
  {
   "cell_type": "code",
   "execution_count": 121,
   "metadata": {
    "ExecuteTime": {
     "end_time": "2021-01-25T04:05:10.960315Z",
     "start_time": "2021-01-25T04:05:10.944360Z"
    },
    "id": "Rv6xGva7lxHP"
   },
   "outputs": [
    {
     "data": {
      "text/plain": [
       "array([[1, 2, 3, 1, 2, 3],\n",
       "       [4, 5, 6, 4, 5, 6]])"
      ]
     },
     "execution_count": 121,
     "metadata": {},
     "output_type": "execute_result"
    }
   ],
   "source": [
    "a2 = np.array([[1,2,3],[4,5,6]])\n",
    "np.concatenate([a2,a2],axis = 1)"
   ]
  },
  {
   "cell_type": "markdown",
   "metadata": {
    "id": "MbiBbx4nl2KD"
   },
   "source": [
    "* `vstack()`: 수직 스택(vertical stack), 1차원으로 연결"
   ]
  },
  {
   "cell_type": "code",
   "execution_count": 122,
   "metadata": {
    "ExecuteTime": {
     "end_time": "2021-01-25T04:05:26.375367Z",
     "start_time": "2021-01-25T04:05:26.369382Z"
    },
    "id": "HkHJwdBMl_qi"
   },
   "outputs": [
    {
     "data": {
      "text/plain": [
       "array([[1, 2, 3],\n",
       "       [4, 5, 6],\n",
       "       [1, 2, 3],\n",
       "       [4, 5, 6]])"
      ]
     },
     "execution_count": 122,
     "metadata": {},
     "output_type": "execute_result"
    }
   ],
   "source": [
    "np.vstack([a2,a2])"
   ]
  },
  {
   "cell_type": "markdown",
   "metadata": {
    "id": "-hTlAnWxmHA_"
   },
   "source": [
    "* `hstack()`: 수평 스택(horizontal stack), 2차원으로 연결"
   ]
  },
  {
   "cell_type": "code",
   "execution_count": 123,
   "metadata": {
    "ExecuteTime": {
     "end_time": "2021-01-25T04:05:35.431607Z",
     "start_time": "2021-01-25T04:05:35.422629Z"
    },
    "id": "-HsGlAytmNEz"
   },
   "outputs": [
    {
     "data": {
      "text/plain": [
       "array([[1, 2, 3, 1, 2, 3],\n",
       "       [4, 5, 6, 4, 5, 6]])"
      ]
     },
     "execution_count": 123,
     "metadata": {},
     "output_type": "execute_result"
    }
   ],
   "source": [
    "np.hstack([a2,a2])"
   ]
  },
  {
   "cell_type": "markdown",
   "metadata": {
    "id": "CshM6LURmUhV"
   },
   "source": [
    "* `dstack()`: 깊이 스택(depth stack), 3차원으로 연결"
   ]
  },
  {
   "cell_type": "code",
   "execution_count": 124,
   "metadata": {
    "ExecuteTime": {
     "end_time": "2021-01-25T04:06:33.160316Z",
     "start_time": "2021-01-25T04:06:33.141366Z"
    },
    "id": "TFBdRddpmU4m"
   },
   "outputs": [
    {
     "data": {
      "text/plain": [
       "array([[[1, 1],\n",
       "        [2, 2],\n",
       "        [3, 3]],\n",
       "\n",
       "       [[4, 4],\n",
       "        [5, 5],\n",
       "        [6, 6]]])"
      ]
     },
     "execution_count": 124,
     "metadata": {},
     "output_type": "execute_result"
    }
   ],
   "source": [
    "np.dstack([a2,a2])"
   ]
  },
  {
   "cell_type": "markdown",
   "metadata": {
    "id": "JUBtc4UnpaSz"
   },
   "source": [
    "* `stack()`: 새로운 차원으로 연결"
   ]
  },
  {
   "cell_type": "code",
   "execution_count": 126,
   "metadata": {
    "ExecuteTime": {
     "end_time": "2021-01-25T04:06:42.838238Z",
     "start_time": "2021-01-25T04:06:42.823278Z"
    },
    "id": "JzoujQ9_pHS5"
   },
   "outputs": [
    {
     "data": {
      "text/plain": [
       "array([[[1, 2, 3],\n",
       "        [4, 5, 6]],\n",
       "\n",
       "       [[1, 2, 3],\n",
       "        [4, 5, 6]]])"
      ]
     },
     "execution_count": 126,
     "metadata": {},
     "output_type": "execute_result"
    }
   ],
   "source": [
    "np.stack([a2,a2])"
   ]
  },
  {
   "cell_type": "markdown",
   "metadata": {
    "id": "eYz74NYKo8iH"
   },
   "source": [
    "### 배열 분할"
   ]
  },
  {
   "cell_type": "markdown",
   "metadata": {
    "id": "wjt2zku5pBmF"
   },
   "source": [
    "* `split()`: 배열 분할"
   ]
  },
  {
   "cell_type": "code",
   "execution_count": 128,
   "metadata": {
    "ExecuteTime": {
     "end_time": "2021-01-25T04:08:14.200487Z",
     "start_time": "2021-01-25T04:08:14.181539Z"
    },
    "id": "H_2e71heo-Eq"
   },
   "outputs": [
    {
     "name": "stdout",
     "output_type": "stream",
     "text": [
      "[1 2 3 4 5 6 7 8 9]\n",
      "[1 2 3 4 5] [6 7 8 9]\n"
     ]
    }
   ],
   "source": [
    "a1 = np.arange(1,10)\n",
    "print(a1)\n",
    "b1,c1 = np.split(a1,[5])\n",
    "print(b1,c1)"
   ]
  },
  {
   "cell_type": "markdown",
   "metadata": {
    "id": "IvvdCQcKsCLn"
   },
   "source": [
    "* `vsplit()`: 수직 분할, 1차원으로 분할"
   ]
  },
  {
   "cell_type": "code",
   "execution_count": 132,
   "metadata": {
    "ExecuteTime": {
     "end_time": "2021-01-25T04:09:03.734901Z",
     "start_time": "2021-01-25T04:09:03.716950Z"
    },
    "id": "GdMYlsiLsCoe"
   },
   "outputs": [
    {
     "name": "stdout",
     "output_type": "stream",
     "text": [
      "[[1 2 3]\n",
      " [4 5 6]\n",
      " [7 8 9]]\n",
      "[[1 2 3]\n",
      " [4 5 6]] [[7 8 9]]\n"
     ]
    }
   ],
   "source": [
    "a2 = np.arange(1,10).reshape(3,3)\n",
    "print(a2)\n",
    "b2,c2 = np.vsplit(a2,[2])\n",
    "print(b2,c2)"
   ]
  },
  {
   "cell_type": "markdown",
   "metadata": {
    "id": "1aC0a034rSXi"
   },
   "source": [
    "* `hsplit()`: 수평 분할, 2차원으로 분할"
   ]
  },
  {
   "cell_type": "code",
   "execution_count": 133,
   "metadata": {
    "ExecuteTime": {
     "end_time": "2021-01-25T04:09:07.991659Z",
     "start_time": "2021-01-25T04:09:07.982650Z"
    },
    "id": "ShMnE_bnrSBJ"
   },
   "outputs": [
    {
     "name": "stdout",
     "output_type": "stream",
     "text": [
      "[[1 2 3]\n",
      " [4 5 6]\n",
      " [7 8 9]]\n",
      "[[1 2]\n",
      " [4 5]\n",
      " [7 8]] [[3]\n",
      " [6]\n",
      " [9]]\n"
     ]
    }
   ],
   "source": [
    "a2 = np.arange(1,10).reshape(3,3)\n",
    "print(a2)\n",
    "b2,c2 = np.hsplit(a2,[2])\n",
    "print(b2,c2)"
   ]
  },
  {
   "cell_type": "markdown",
   "metadata": {
    "id": "Pz3BDD8qsQER"
   },
   "source": [
    "* `dsplit()`: 깊이 분할, 3차원으로 분할"
   ]
  },
  {
   "cell_type": "code",
   "execution_count": 134,
   "metadata": {
    "ExecuteTime": {
     "end_time": "2021-01-25T04:09:43.952117Z",
     "start_time": "2021-01-25T04:09:43.945136Z"
    },
    "id": "DqHFGd43sQYj"
   },
   "outputs": [
    {
     "name": "stdout",
     "output_type": "stream",
     "text": [
      "[[[ 1  2  3]\n",
      "  [ 4  5  6]\n",
      "  [ 7  8  9]]\n",
      "\n",
      " [[10 11 12]\n",
      "  [13 14 15]\n",
      "  [16 17 18]]\n",
      "\n",
      " [[19 20 21]\n",
      "  [22 23 24]\n",
      "  [25 26 27]]]\n",
      "[[[ 1  2]\n",
      "  [ 4  5]\n",
      "  [ 7  8]]\n",
      "\n",
      " [[10 11]\n",
      "  [13 14]\n",
      "  [16 17]]\n",
      "\n",
      " [[19 20]\n",
      "  [22 23]\n",
      "  [25 26]]] [[[ 3]\n",
      "  [ 6]\n",
      "  [ 9]]\n",
      "\n",
      " [[12]\n",
      "  [15]\n",
      "  [18]]\n",
      "\n",
      " [[21]\n",
      "  [24]\n",
      "  [27]]]\n"
     ]
    }
   ],
   "source": [
    "a3 = np.arange(1,28).reshape(3,3,3)\n",
    "print(a3)\n",
    "b3,c3 = np.dsplit(a3,[2])\n",
    "print(b3,c3)"
   ]
  },
  {
   "cell_type": "markdown",
   "metadata": {
    "id": "rK-zrDZuGoVd"
   },
   "source": [
    "\n",
    "\n",
    "---\n",
    "\n"
   ]
  },
  {
   "cell_type": "markdown",
   "metadata": {
    "id": "Vc-iSWewJ3C1"
   },
   "source": [
    "## 배열 연산\n",
    "\n",
    "* NumPy의 배열 연산은 벡터화(vectorized) 연산을 사용\n",
    "* 일반적으로 NumPy의 범용 함수(universal functions)를 통해 구현\n",
    "* 배열 요소에 대한 반복적인 계산을 효율적으로 수행"
   ]
  },
  {
   "cell_type": "markdown",
   "metadata": {
    "id": "Pg2er1A2w3cz"
   },
   "source": [
    "### 브로드캐스팅(Broadcasting)"
   ]
  },
  {
   "cell_type": "code",
   "execution_count": 135,
   "metadata": {
    "ExecuteTime": {
     "end_time": "2021-01-25T04:11:43.813170Z",
     "start_time": "2021-01-25T04:11:43.794421Z"
    },
    "id": "IGU-HRgr20nj"
   },
   "outputs": [
    {
     "name": "stdout",
     "output_type": "stream",
     "text": [
      "[1 2 3 4 5]\n",
      "[ 6  7  8  9 10]\n"
     ]
    }
   ],
   "source": [
    "a1 = np.arange(1, 6)\n",
    "print(a1)\n",
    "print(a1 + 5)"
   ]
  },
  {
   "cell_type": "code",
   "execution_count": 138,
   "metadata": {
    "ExecuteTime": {
     "end_time": "2021-01-25T04:13:53.797911Z",
     "start_time": "2021-01-25T04:13:53.779960Z"
    },
    "id": "IAzsmIAn1HNt"
   },
   "outputs": [
    {
     "name": "stdout",
     "output_type": "stream",
     "text": [
      "[1 2 3]\n",
      "[[1]\n",
      " [2]\n",
      " [3]]\n",
      "[[2 3 4]\n",
      " [3 4 5]\n",
      " [4 5 6]]\n"
     ]
    }
   ],
   "source": [
    "a1 = np.arange(1,4)\n",
    "a2 = a1.reshape(3,1)\n",
    "print(a1)\n",
    "print(a2)\n",
    "print(a1+a2)"
   ]
  },
  {
   "cell_type": "markdown",
   "metadata": {
    "id": "NZzLHHLmwl_b"
   },
   "source": [
    "### 산술 연산(Arithmetic Operators)"
   ]
  },
  {
   "cell_type": "code",
   "execution_count": 147,
   "metadata": {
    "ExecuteTime": {
     "end_time": "2021-01-25T04:17:29.991351Z",
     "start_time": "2021-01-25T04:17:29.982436Z"
    },
    "id": "jHrIjHGEi05k"
   },
   "outputs": [
    {
     "name": "stdout",
     "output_type": "stream",
     "text": [
      "[1 2 3 4 5 6 7 8 9]\n",
      "[ 2  3  4  5  6  7  8  9 10]\n",
      "[11 12 13 14 15 16 17 18 19]\n",
      "[-1  0  1  2  3  4  5  6  7]\n",
      "[-9 -8 -7 -6 -5 -4 -3 -2 -1]\n",
      "[-1 -2 -3 -4 -5 -6 -7 -8 -9]\n",
      "[ 2  4  6  8 10 12 14 16 18]\n",
      "[ 2  4  6  8 10 12 14 16 18]\n",
      "[0.5 1.  1.5 2.  2.5 3.  3.5 4.  4.5]\n",
      "[0.5 1.  1.5 2.  2.5 3.  3.5 4.  4.5]\n",
      "[0 1 1 2 2 3 3 4 4]\n",
      "[0 1 1 2 2 3 3 4 4]\n",
      "[ 1  4  9 16 25 36 49 64 81]\n",
      "[ 1  4  9 16 25 36 49 64 81]\n",
      "[1 0 1 0 1 0 1 0 1]\n",
      "[1 0 1 0 1 0 1 0 1]\n"
     ]
    }
   ],
   "source": [
    "a1 = np.arange(1, 10)\n",
    "print(a1)\n",
    "print(a1+1)\n",
    "print(np.add(a1, 10))\n",
    "print(a1 - 2)\n",
    "print(np.subtract(a1, 10))\n",
    "print(-a1)\n",
    "print(a1 * 2)\n",
    "print(np.multiply(a1, 2))\n",
    "print(a1 / 2)\n",
    "print(np.divide(a1, 2))\n",
    "print(a1//2)\n",
    "print(np.floor_divide(a1, 2))\n",
    "print(a1 ** 2)\n",
    "print(np.power(a1, 2))\n",
    "print(a1 % 2)\n",
    "print(np.mod(a1, 2))"
   ]
  },
  {
   "cell_type": "code",
   "execution_count": 150,
   "metadata": {
    "ExecuteTime": {
     "end_time": "2021-01-25T04:18:26.479335Z",
     "start_time": "2021-01-25T04:18:26.462353Z"
    },
    "id": "sMUYzXk3psgC"
   },
   "outputs": [
    {
     "name": "stdout",
     "output_type": "stream",
     "text": [
      "[1 2 3 4 5 6 7 8 9]\n",
      "[1 1 5 8 3 4 1 2 2]\n",
      "[ 2  3  8 12  8 10  8 10 11]\n",
      "[ 1  2 15 32 15 24  7 16 18]\n",
      "[1.         2.         0.6        0.5        1.66666667 1.5\n",
      " 7.         4.         4.5       ]\n",
      "[1 2 0 0 1 1 7 4 4]\n",
      "[    1     2   243 65536   125  1296     7    64    81]\n",
      "[0 0 3 4 2 2 0 0 1]\n"
     ]
    }
   ],
   "source": [
    "a1 = np.arange(1,10)\n",
    "print(a1)\n",
    "b1 = np.random.randint(1,10,size = 9)\n",
    "print(b1)\n",
    "print(a1+b1)\n",
    "print(a1 * b1)\n",
    "print( a1/ b1)\n",
    "print(a1//b1)\n",
    "print(a1**b1)\n",
    "print(a1 % b1)"
   ]
  },
  {
   "cell_type": "code",
   "execution_count": 153,
   "metadata": {
    "ExecuteTime": {
     "end_time": "2021-01-25T04:19:24.193543Z",
     "start_time": "2021-01-25T04:19:24.179580Z"
    },
    "id": "ZkyjPmk5onPK"
   },
   "outputs": [
    {
     "name": "stdout",
     "output_type": "stream",
     "text": [
      "[[1 2 3]\n",
      " [4 5 6]\n",
      " [7 8 9]]\n",
      "[[5 7 2]\n",
      " [7 7 7]\n",
      " [8 2 6]]\n",
      "[[ 6  9  5]\n",
      " [11 12 13]\n",
      " [15 10 15]]\n",
      "[[-4 -5  1]\n",
      " [-3 -2 -1]\n",
      " [-1  6  3]]\n",
      "[[0.2        0.28571429 1.5       ]\n",
      " [0.57142857 0.71428571 0.85714286]\n",
      " [0.875      4.         1.5       ]]\n",
      "[[0 0 1]\n",
      " [0 0 0]\n",
      " [0 4 1]]\n",
      "[[      1     128       9]\n",
      " [  16384   78125  279936]\n",
      " [5764801      64  531441]]\n",
      "[[1 2 1]\n",
      " [4 5 6]\n",
      " [7 0 3]]\n"
     ]
    }
   ],
   "source": [
    "a2 = np.arange(1,10).reshape(3,3)\n",
    "print(a2)\n",
    "b2 = np.random.randint(1,10,size=(3,3))\n",
    "print(b2)\n",
    "print(a2+b2)\n",
    "print(a2-b2)\n",
    "print(a2/b2)\n",
    "print(a2//b2)\n",
    "print(a2**b2)\n",
    "print(a2 % b2)"
   ]
  },
  {
   "cell_type": "markdown",
   "metadata": {
    "id": "hxG_aECas3a9"
   },
   "source": [
    "#### 절대값 함수(Absolute Function)\n",
    "\n",
    "* `absolute()`, `abs()`: 내장된 절대값 함수"
   ]
  },
  {
   "cell_type": "code",
   "execution_count": 155,
   "metadata": {
    "ExecuteTime": {
     "end_time": "2021-01-25T04:20:06.973973Z",
     "start_time": "2021-01-25T04:20:06.966276Z"
    },
    "id": "YmX-0LvWs7qM"
   },
   "outputs": [
    {
     "name": "stdout",
     "output_type": "stream",
     "text": [
      "[-4 -4  3 -5  0]\n",
      "[4 4 3 5 0]\n",
      "[4 4 3 5 0]\n"
     ]
    }
   ],
   "source": [
    "a1 = np.random.randint(-10,10,size = 5)\n",
    "print(a1)\n",
    "print(np.absolute(a1))\n",
    "print(np.abs(a1))"
   ]
  },
  {
   "cell_type": "markdown",
   "metadata": {
    "id": "U5uE3sVtzRvA"
   },
   "source": [
    "#### 제곱/제곱근 함수\n",
    "\n",
    "* `square`, `sqrt`: 제곱, 제곱근 함수"
   ]
  },
  {
   "cell_type": "code",
   "execution_count": 156,
   "metadata": {
    "ExecuteTime": {
     "end_time": "2021-01-25T04:20:27.779244Z",
     "start_time": "2021-01-25T04:20:27.772263Z"
    },
    "id": "ggnIxDGzzTfX"
   },
   "outputs": [
    {
     "name": "stdout",
     "output_type": "stream",
     "text": [
      "[-4 -4  3 -5  0]\n",
      "[16 16  9 25  0]\n",
      "[       nan        nan 1.73205081        nan 0.        ]\n"
     ]
    },
    {
     "name": "stderr",
     "output_type": "stream",
     "text": [
      "<ipython-input-156-4e034cb7ea92>:3: RuntimeWarning: invalid value encountered in sqrt\n",
      "  print(np.sqrt(a1))\n"
     ]
    }
   ],
   "source": [
    "print(a1)\n",
    "print(np.square(a1))\n",
    "print(np.sqrt(a1))"
   ]
  },
  {
   "cell_type": "markdown",
   "metadata": {
    "id": "tWh1aQ50vRhB"
   },
   "source": [
    "#### 지수와 로그 함수 (Exponential and Log Function)"
   ]
  },
  {
   "cell_type": "code",
   "execution_count": 159,
   "metadata": {
    "ExecuteTime": {
     "end_time": "2021-01-25T04:21:14.516773Z",
     "start_time": "2021-01-25T04:21:14.508794Z"
    },
    "id": "Dygt3AyHvTZz"
   },
   "outputs": [
    {
     "name": "stdout",
     "output_type": "stream",
     "text": [
      "[7 2 7 9 3]\n",
      "[1.09663316e+03 7.38905610e+00 1.09663316e+03 8.10308393e+03\n",
      " 2.00855369e+01]\n",
      "[128.   4. 128. 512.   8.]\n",
      "[49  4 49 81  9]\n"
     ]
    }
   ],
   "source": [
    "a1 = np.random.randint(1,10,size = 5)\n",
    "print(a1)\n",
    "print(np.exp(a1))\n",
    "print(np.exp2(a1))\n",
    "print(np.power(a1,2))"
   ]
  },
  {
   "cell_type": "code",
   "execution_count": 160,
   "metadata": {
    "ExecuteTime": {
     "end_time": "2021-01-25T04:21:45.944513Z",
     "start_time": "2021-01-25T04:21:45.931548Z"
    },
    "id": "YB0BzwxDvnkT"
   },
   "outputs": [
    {
     "name": "stdout",
     "output_type": "stream",
     "text": [
      "[7 2 7 9 3]\n",
      "[1.94591015 0.69314718 1.94591015 2.19722458 1.09861229]\n",
      "[2.80735492 1.         2.80735492 3.169925   1.5849625 ]\n",
      "[0.84509804 0.30103    0.84509804 0.95424251 0.47712125]\n"
     ]
    }
   ],
   "source": [
    "print(a1)\n",
    "print(np.log(a1))\n",
    "print(np.log2(a1))\n",
    "print(np.log10(a1))"
   ]
  },
  {
   "cell_type": "markdown",
   "metadata": {
    "id": "wE_p9AxjtdJ9"
   },
   "source": [
    "#### 삼각 함수(Trigonometrical Function)\n"
   ]
  },
  {
   "cell_type": "code",
   "execution_count": 162,
   "metadata": {
    "ExecuteTime": {
     "end_time": "2021-01-25T04:22:36.909806Z",
     "start_time": "2021-01-25T04:22:36.900859Z"
    },
    "id": "6bOSPS81tuo5"
   },
   "outputs": [
    {
     "name": "stdout",
     "output_type": "stream",
     "text": [
      "[0.         1.57079633 3.14159265]\n",
      "[0.0000000e+00 1.0000000e+00 1.2246468e-16]\n",
      "[ 1.000000e+00  6.123234e-17 -1.000000e+00]\n",
      "[ 0.00000000e+00  1.63312394e+16 -1.22464680e-16]\n"
     ]
    }
   ],
   "source": [
    "t = np.linspace(0,np.pi,3)\n",
    "print(t)\n",
    "print(np.sin(t))\n",
    "print(np.cos(t))\n",
    "print(np.tan(t))"
   ]
  },
  {
   "cell_type": "code",
   "execution_count": 163,
   "metadata": {
    "ExecuteTime": {
     "end_time": "2021-01-25T04:23:18.423560Z",
     "start_time": "2021-01-25T04:23:18.407603Z"
    },
    "id": "v7m-AQW9uJ9u"
   },
   "outputs": [
    {
     "name": "stdout",
     "output_type": "stream",
     "text": [
      "[-1, 0, 1]\n",
      "[-1.57079633  0.          1.57079633]\n",
      "[3.14159265 1.57079633 0.        ]\n",
      "[-0.78539816  0.          0.78539816]\n"
     ]
    }
   ],
   "source": [
    "x = [-1,0,1]\n",
    "print(x)\n",
    "print(np.arcsin(x))\n",
    "print(np.arccos(x))\n",
    "print(np.arctan(x))"
   ]
  },
  {
   "cell_type": "markdown",
   "metadata": {
    "id": "hKJtYUVWwxQy"
   },
   "source": [
    "### 집계 함수(Aggregate Functions)"
   ]
  },
  {
   "cell_type": "markdown",
   "metadata": {
    "id": "GdxMrX5l9m6W"
   },
   "source": [
    "#### sum(): 합 계산"
   ]
  },
  {
   "cell_type": "code",
   "execution_count": 165,
   "metadata": {
    "ExecuteTime": {
     "end_time": "2021-01-25T04:25:38.669536Z",
     "start_time": "2021-01-25T04:25:38.649286Z"
    },
    "id": "AJQ3GjLI0cZU"
   },
   "outputs": [
    {
     "name": "stdout",
     "output_type": "stream",
     "text": [
      "[[8 2 6]\n",
      " [2 4 7]\n",
      " [3 3 9]]\n",
      "44 44\n",
      "[13  9 22] [13  9 22]\n",
      "[16 13 15] [16 13 15]\n"
     ]
    }
   ],
   "source": [
    "a2 = np.random.randint(1,10,size=(3,3))\n",
    "print(a2)\n",
    "print(a2.sum(),np.sum(a2))\n",
    "print(a2.sum(axis = 0),np.sum(a2,axis = 0 ))\n",
    "print(a2.sum(axis = 1),np.sum(a2,axis = 1 ))"
   ]
  },
  {
   "cell_type": "markdown",
   "metadata": {
    "id": "U4W4iIb9J4Zd"
   },
   "source": [
    "#### cumsum(): 누적합 계산"
   ]
  },
  {
   "cell_type": "code",
   "execution_count": 167,
   "metadata": {
    "ExecuteTime": {
     "end_time": "2021-01-25T04:26:29.288940Z",
     "start_time": "2021-01-25T04:26:29.271984Z"
    },
    "id": "SRZWZD3UJ4wo"
   },
   "outputs": [
    {
     "name": "stdout",
     "output_type": "stream",
     "text": [
      "[[7 8 7]\n",
      " [3 1 7]\n",
      " [9 6 6]]\n",
      "[ 7 15 22 25 26 33 42 48 54]\n",
      "[[ 7  8  7]\n",
      " [10  9 14]\n",
      " [19 15 20]]\n",
      "[[ 7 15 22]\n",
      " [ 3  4 11]\n",
      " [ 9 15 21]]\n"
     ]
    }
   ],
   "source": [
    "a2 = np.random.randint(1,10,size=(3,3))\n",
    "print(a2)\n",
    "print(np.cumsum(a2))\n",
    "print(np.cumsum(a2,axis = 0 ))\n",
    "print(np.cumsum(a2,axis = 1 ))"
   ]
  },
  {
   "cell_type": "markdown",
   "metadata": {
    "id": "pVaJRWQ-LV0f"
   },
   "source": [
    "#### diff(): 차분 계산"
   ]
  },
  {
   "cell_type": "code",
   "execution_count": 168,
   "metadata": {
    "ExecuteTime": {
     "end_time": "2021-01-25T04:27:19.767596Z",
     "start_time": "2021-01-25T04:27:19.757625Z"
    },
    "id": "yKjnWtGVLWJj",
    "scrolled": true
   },
   "outputs": [
    {
     "name": "stdout",
     "output_type": "stream",
     "text": [
      "[[7 5 8]\n",
      " [7 8 6]\n",
      " [4 7 4]]\n",
      "[[-2  3]\n",
      " [ 1 -2]\n",
      " [ 3 -3]]\n",
      "[[ 0  3 -2]\n",
      " [-3 -1 -2]]\n",
      "[[-2  3]\n",
      " [ 1 -2]\n",
      " [ 3 -3]]\n"
     ]
    }
   ],
   "source": [
    "a2 = np.random.randint(1,10,size=(3,3))\n",
    "print(a2)\n",
    "print(np.diff(a2))\n",
    "print(np.diff(a2,axis = 0 ))\n",
    "print(np.diff(a2,axis = 1 ))"
   ]
  },
  {
   "cell_type": "markdown",
   "metadata": {
    "id": "b6I38HfA9vGL"
   },
   "source": [
    "#### prod(): 곱 계산"
   ]
  },
  {
   "cell_type": "code",
   "execution_count": 170,
   "metadata": {
    "ExecuteTime": {
     "end_time": "2021-01-25T04:28:03.215762Z",
     "start_time": "2021-01-25T04:28:03.202795Z"
    },
    "id": "rGPMXGe89y0O"
   },
   "outputs": [
    {
     "name": "stdout",
     "output_type": "stream",
     "text": [
      "[[1 9 5]\n",
      " [3 1 6]\n",
      " [1 3 3]]\n",
      "7290\n",
      "[ 3 27 90]\n",
      "[45 18  9]\n"
     ]
    }
   ],
   "source": [
    "a2 = np.random.randint(1,10,size=(3,3))\n",
    "print(a2)\n",
    "print(np.prod(a2))\n",
    "print(np.prod(a2,axis = 0 ))\n",
    "print(np.prod(a2,axis = 1 ))"
   ]
  },
  {
   "cell_type": "markdown",
   "metadata": {
    "id": "RwaoVUGcKkkE"
   },
   "source": [
    "#### cumprod(): 누적곱 계산"
   ]
  },
  {
   "cell_type": "code",
   "execution_count": 171,
   "metadata": {
    "ExecuteTime": {
     "end_time": "2021-01-25T04:28:12.742036Z",
     "start_time": "2021-01-25T04:28:12.733061Z"
    },
    "id": "jwYoX9inKk4D"
   },
   "outputs": [
    {
     "name": "stdout",
     "output_type": "stream",
     "text": [
      "[[8 8 9]\n",
      " [5 8 9]\n",
      " [2 5 5]]\n",
      "[       8       64      576     2880    23040   207360   414720  2073600\n",
      " 10368000]\n",
      "[[  8   8   9]\n",
      " [ 40  64  81]\n",
      " [ 80 320 405]]\n",
      "[[  8  64 576]\n",
      " [  5  40 360]\n",
      " [  2  10  50]]\n"
     ]
    }
   ],
   "source": [
    "a2 = np.random.randint(1,10,size=(3,3))\n",
    "print(a2)\n",
    "print(np.cumprod(a2))\n",
    "print(np.cumprod(a2,axis = 0 ))\n",
    "print(np.cumprod(a2,axis = 1 ))"
   ]
  },
  {
   "cell_type": "markdown",
   "metadata": {
    "id": "_LMAbL9hMV7T"
   },
   "source": [
    "#### dot()/matmul(): 점곱/행렬곱 계산"
   ]
  },
  {
   "cell_type": "code",
   "execution_count": null,
   "metadata": {
    "id": "xC6FBzF0MWW1"
   },
   "outputs": [],
   "source": []
  },
  {
   "cell_type": "markdown",
   "metadata": {
    "id": "juVk3vnjPu31"
   },
   "source": [
    "#### tensordot(): 텐서곱 계산"
   ]
  },
  {
   "cell_type": "code",
   "execution_count": null,
   "metadata": {
    "id": "3LrcLOcjPvNI"
   },
   "outputs": [],
   "source": []
  },
  {
   "cell_type": "markdown",
   "metadata": {
    "id": "UzmZhB5TNRMX"
   },
   "source": [
    "#### cross(): 벡터곱"
   ]
  },
  {
   "cell_type": "code",
   "execution_count": null,
   "metadata": {
    "id": "xvT2hy1FNRkU"
   },
   "outputs": [],
   "source": []
  },
  {
   "cell_type": "markdown",
   "metadata": {
    "id": "SJVYmtrSO5YL"
   },
   "source": [
    "#### inner()/outer(): 내적/외적"
   ]
  },
  {
   "cell_type": "code",
   "execution_count": null,
   "metadata": {
    "id": "HJpomax7O5s6"
   },
   "outputs": [],
   "source": []
  },
  {
   "cell_type": "markdown",
   "metadata": {
    "id": "9CIotQgI_RQ-"
   },
   "source": [
    "#### mean(): 평균 계산"
   ]
  },
  {
   "cell_type": "code",
   "execution_count": null,
   "metadata": {
    "id": "g96wAEOT_bUk"
   },
   "outputs": [],
   "source": []
  },
  {
   "cell_type": "markdown",
   "metadata": {
    "id": "wAG_zijP_Z5o"
   },
   "source": [
    "#### std(): 표준 편차 계산"
   ]
  },
  {
   "cell_type": "code",
   "execution_count": null,
   "metadata": {
    "id": "hlpnuyug_TXA"
   },
   "outputs": [],
   "source": []
  },
  {
   "cell_type": "markdown",
   "metadata": {
    "id": "5FFTCCDaAEhx"
   },
   "source": [
    "#### var(): 분산 계산"
   ]
  },
  {
   "cell_type": "code",
   "execution_count": null,
   "metadata": {
    "id": "CRMNkSdzAGZG"
   },
   "outputs": [],
   "source": []
  },
  {
   "cell_type": "markdown",
   "metadata": {
    "id": "QFeh-4tmCCrU"
   },
   "source": [
    "#### min(): 최소값"
   ]
  },
  {
   "cell_type": "code",
   "execution_count": null,
   "metadata": {
    "id": "SMNCfYBQCEtf"
   },
   "outputs": [],
   "source": []
  },
  {
   "cell_type": "markdown",
   "metadata": {
    "id": "A3n_JBnBJ2bo"
   },
   "source": [
    "#### max(): 최대값"
   ]
  },
  {
   "cell_type": "code",
   "execution_count": null,
   "metadata": {
    "id": "FmuOFKGAJ6Pf"
   },
   "outputs": [],
   "source": []
  },
  {
   "cell_type": "markdown",
   "metadata": {
    "id": "PvGOKDP0J_5b"
   },
   "source": [
    "#### argmin(): 최소값 인덱스"
   ]
  },
  {
   "cell_type": "code",
   "execution_count": null,
   "metadata": {
    "id": "1ILP7L3yKCqA"
   },
   "outputs": [],
   "source": []
  },
  {
   "cell_type": "markdown",
   "metadata": {
    "id": "23IcSctIKbUa"
   },
   "source": [
    "#### argmax(): 최대값 인덱스"
   ]
  },
  {
   "cell_type": "code",
   "execution_count": null,
   "metadata": {
    "id": "2m21cfCFKd-Q"
   },
   "outputs": [],
   "source": []
  },
  {
   "cell_type": "markdown",
   "metadata": {
    "id": "3TjeNFQLKuZb"
   },
   "source": [
    "#### median(): 중앙값"
   ]
  },
  {
   "cell_type": "code",
   "execution_count": null,
   "metadata": {
    "id": "kSLN17bpKwv6"
   },
   "outputs": [],
   "source": []
  },
  {
   "cell_type": "markdown",
   "metadata": {
    "id": "df-Id-nhLs3L"
   },
   "source": [
    "#### percentile(): 백분위 수\n",
    "\n"
   ]
  },
  {
   "cell_type": "code",
   "execution_count": null,
   "metadata": {
    "id": "N-TCx9hnLvhK"
   },
   "outputs": [],
   "source": []
  },
  {
   "cell_type": "markdown",
   "metadata": {
    "id": "x0NnNsvvNDIs"
   },
   "source": [
    "#### any()"
   ]
  },
  {
   "cell_type": "code",
   "execution_count": null,
   "metadata": {
    "id": "I1XDqsFxOMvA"
   },
   "outputs": [],
   "source": []
  },
  {
   "cell_type": "markdown",
   "metadata": {
    "id": "Uw-wjYgyONBZ"
   },
   "source": [
    "#### all()"
   ]
  },
  {
   "cell_type": "code",
   "execution_count": null,
   "metadata": {
    "id": "sXi2AHOHONYq"
   },
   "outputs": [],
   "source": []
  },
  {
   "cell_type": "markdown",
   "metadata": {
    "id": "0n7lgzmUwqr1"
   },
   "source": [
    "### 비교 연산(Comparison Operators)\n"
   ]
  },
  {
   "cell_type": "code",
   "execution_count": null,
   "metadata": {
    "id": "E00V-nBTVnCu"
   },
   "outputs": [],
   "source": []
  },
  {
   "cell_type": "code",
   "execution_count": null,
   "metadata": {
    "id": "3MwV1CU1WsWS"
   },
   "outputs": [],
   "source": []
  },
  {
   "cell_type": "code",
   "execution_count": null,
   "metadata": {
    "id": "D4cuMoyEPn8R"
   },
   "outputs": [],
   "source": []
  },
  {
   "cell_type": "code",
   "execution_count": null,
   "metadata": {
    "id": "af9VSc6FyMBh"
   },
   "outputs": [],
   "source": []
  },
  {
   "cell_type": "markdown",
   "metadata": {
    "id": "4BHMetMlYmt-"
   },
   "source": [
    "#### 불리언 연산자(Boolean Operators)\n"
   ]
  },
  {
   "cell_type": "code",
   "execution_count": null,
   "metadata": {
    "id": "ZV1-8DkUHOZq"
   },
   "outputs": [],
   "source": []
  },
  {
   "cell_type": "markdown",
   "metadata": {
    "id": "FlQJVeGBxIFw"
   },
   "source": [
    "### 배열 정렬"
   ]
  },
  {
   "cell_type": "code",
   "execution_count": null,
   "metadata": {
    "id": "x0sodUMqLU37"
   },
   "outputs": [],
   "source": []
  },
  {
   "cell_type": "code",
   "execution_count": null,
   "metadata": {
    "id": "FO_sO5POzeMp"
   },
   "outputs": [],
   "source": []
  },
  {
   "cell_type": "markdown",
   "metadata": {
    "id": "yYSItPz_00sZ"
   },
   "source": [
    "#### 부분 정렬\n",
    "\n",
    "* `partition()`: 배열에서 k개의 작은 값을 반환"
   ]
  },
  {
   "cell_type": "code",
   "execution_count": null,
   "metadata": {
    "id": "QQwov4N00YFP"
   },
   "outputs": [],
   "source": []
  },
  {
   "cell_type": "markdown",
   "metadata": {
    "id": "77DSA72ML5cI"
   },
   "source": [
    "## 배열 입출력\n"
   ]
  },
  {
   "cell_type": "code",
   "execution_count": null,
   "metadata": {
    "id": "da-Mm_gzIs7U"
   },
   "outputs": [],
   "source": []
  },
  {
   "cell_type": "code",
   "execution_count": null,
   "metadata": {
    "colab": {
     "base_uri": "https://localhost:8080/",
     "height": 34
    },
    "id": "pFOWyDvAsf11",
    "outputId": "8be0a298-07ab-4526-e9d4-2796faadee9a"
   },
   "outputs": [
    {
     "name": "stdout",
     "output_type": "stream",
     "text": [
      "sample_data\n"
     ]
    }
   ],
   "source": []
  },
  {
   "cell_type": "code",
   "execution_count": null,
   "metadata": {
    "id": "Hvb_ilyisoIV"
   },
   "outputs": [],
   "source": []
  },
  {
   "cell_type": "code",
   "execution_count": null,
   "metadata": {
    "id": "ArWZfL31s1wU"
   },
   "outputs": [],
   "source": []
  },
  {
   "cell_type": "code",
   "execution_count": null,
   "metadata": {
    "id": "che4cEJEs2Tr"
   },
   "outputs": [],
   "source": []
  },
  {
   "cell_type": "code",
   "execution_count": null,
   "metadata": {
    "id": "X2yIUsYvtMj6"
   },
   "outputs": [],
   "source": []
  },
  {
   "cell_type": "code",
   "execution_count": null,
   "metadata": {
    "id": "Yj5ec-CYtaH1"
   },
   "outputs": [],
   "source": []
  },
  {
   "cell_type": "code",
   "execution_count": null,
   "metadata": {
    "id": "_NIDrc-VuPmv"
   },
   "outputs": [],
   "source": []
  },
  {
   "cell_type": "code",
   "execution_count": null,
   "metadata": {
    "id": "bPhmIoVBuQMf"
   },
   "outputs": [],
   "source": []
  },
  {
   "cell_type": "code",
   "execution_count": null,
   "metadata": {
    "id": "FeB2p4azuTDv"
   },
   "outputs": [],
   "source": []
  },
  {
   "cell_type": "code",
   "execution_count": null,
   "metadata": {
    "id": "IUg8Vg4fuxR5"
   },
   "outputs": [],
   "source": []
  },
  {
   "cell_type": "code",
   "execution_count": null,
   "metadata": {
    "id": "lIK5dSv6vtm2"
   },
   "outputs": [],
   "source": []
  },
  {
   "cell_type": "code",
   "execution_count": null,
   "metadata": {
    "id": "l4O-gVxdv8-d"
   },
   "outputs": [],
   "source": []
  },
  {
   "cell_type": "markdown",
   "metadata": {
    "id": "JM2Ghx2NGloN"
   },
   "source": [
    "\n",
    "\n",
    "---\n",
    "\n"
   ]
  }
 ],
 "metadata": {
  "colab": {
   "collapsed_sections": [],
   "name": "_NumPy 한번에 제대로 배우기.ipynb",
   "provenance": [],
   "toc_visible": true
  },
  "kernelspec": {
   "display_name": "Python 3",
   "language": "python",
   "name": "python3"
  },
  "language_info": {
   "codemirror_mode": {
    "name": "ipython",
    "version": 3
   },
   "file_extension": ".py",
   "mimetype": "text/x-python",
   "name": "python",
   "nbconvert_exporter": "python",
   "pygments_lexer": "ipython3",
   "version": "3.8.5"
  },
  "toc": {
   "base_numbering": 1,
   "nav_menu": {},
   "number_sections": true,
   "sideBar": true,
   "skip_h1_title": false,
   "title_cell": "Table of Contents",
   "title_sidebar": "Contents",
   "toc_cell": false,
   "toc_position": {},
   "toc_section_display": true,
   "toc_window_display": false
  }
 },
 "nbformat": 4,
 "nbformat_minor": 1
}
